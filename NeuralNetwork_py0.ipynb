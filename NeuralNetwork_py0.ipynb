{
  "nbformat": 4,
  "nbformat_minor": 0,
  "metadata": {
    "colab": {
      "provenance": [],
      "gpuType": "T4",
      "authorship_tag": "ABX9TyPUML4jyJhbUeg1EUDD+7PA",
      "include_colab_link": true
    },
    "kernelspec": {
      "name": "python3",
      "display_name": "Python 3"
    },
    "language_info": {
      "name": "python"
    },
    "accelerator": "GPU"
  },
  "cells": [
    {
      "cell_type": "markdown",
      "metadata": {
        "id": "view-in-github",
        "colab_type": "text"
      },
      "source": [
        "<a href=\"https://colab.research.google.com/github/Grim705/Colab_Neural_Network/blob/main/NeuralNetwork_py0.ipynb\" target=\"_parent\"><img src=\"https://colab.research.google.com/assets/colab-badge.svg\" alt=\"Open In Colab\"/></a>"
      ]
    },
    {
      "cell_type": "markdown",
      "source": [
        "Resource: https://www.learnpytorch.io/00_pytorch_fundamentals/"
      ],
      "metadata": {
        "id": "dZFu0DeNd6_2"
      }
    },
    {
      "cell_type": "markdown",
      "source": [
        "### Tensor\n",
        "Numpy array: A numpy array is a grid of values, all of the same type, and is indexed by a tuple of nonnegative integers.\n",
        "\n",
        "Tensor is just like, numpy array.\n",
        "\n",
        "Tensor is also known as data container.\n"
      ],
      "metadata": {
        "id": "KrBPzzo_OE-p"
      }
    },
    {
      "cell_type": "code",
      "source": [
        "import torch"
      ],
      "metadata": {
        "id": "wjdpaVv0-e-G"
      },
      "execution_count": null,
      "outputs": []
    },
    {
      "cell_type": "code",
      "execution_count": null,
      "metadata": {
        "colab": {
          "base_uri": "https://localhost:8080/"
        },
        "id": "aIvJdhmqQp5h",
        "outputId": "e1eda0d7-090e-458d-a155-5a5c86e4dbe5"
      },
      "outputs": [
        {
          "output_type": "stream",
          "name": "stdout",
          "text": [
            "Hello\n"
          ]
        }
      ],
      "source": [
        "print(\"Hello\")"
      ]
    },
    {
      "cell_type": "code",
      "source": [
        "print(torch.__version__)\n"
      ],
      "metadata": {
        "colab": {
          "base_uri": "https://localhost:8080/"
        },
        "id": "hq23mVgW2YkE",
        "outputId": "6db76001-ed9f-4851-b80b-1c762feccaa8"
      },
      "execution_count": null,
      "outputs": [
        {
          "output_type": "stream",
          "name": "stdout",
          "text": [
            "2.0.1+cu118\n"
          ]
        }
      ]
    },
    {
      "cell_type": "markdown",
      "source": [
        "Creating Tensors:"
      ],
      "metadata": {
        "id": "ZFWvFnVbPrs6"
      }
    },
    {
      "cell_type": "code",
      "source": [
        "## Scaler Tensor\n",
        "scaler = torch.tensor(8)\n",
        "scaler\n"
      ],
      "metadata": {
        "colab": {
          "base_uri": "https://localhost:8080/"
        },
        "id": "yHeLIKh7PAHy",
        "outputId": "b338961f-2642-4f0b-d219-402259269442"
      },
      "execution_count": null,
      "outputs": [
        {
          "output_type": "execute_result",
          "data": {
            "text/plain": [
              "tensor(8)"
            ]
          },
          "metadata": {},
          "execution_count": 30
        }
      ]
    },
    {
      "cell_type": "code",
      "source": [
        "# Default datatype of pytorch tensor is float. until explicitly defined\n",
        "scaler.dtype"
      ],
      "metadata": {
        "colab": {
          "base_uri": "https://localhost:8080/"
        },
        "id": "cIZ6Tq0OJ8Qb",
        "outputId": "1a8541db-f5c8-4334-bba3-eaf0cf56ad72"
      },
      "execution_count": null,
      "outputs": [
        {
          "output_type": "execute_result",
          "data": {
            "text/plain": [
              "torch.int64"
            ]
          },
          "metadata": {},
          "execution_count": 31
        }
      ]
    },
    {
      "cell_type": "code",
      "source": [
        "## Sclaer tensor has no dimentions.\n",
        "print(scaler.ndim)\n",
        "## .item() will return the tensor as python int.\n",
        "scaler.item()"
      ],
      "metadata": {
        "colab": {
          "base_uri": "https://localhost:8080/"
        },
        "id": "oqJikDo_RTXK",
        "outputId": "8bc6f227-7cc0-4e88-ad81-3ef72b00b0bc"
      },
      "execution_count": null,
      "outputs": [
        {
          "output_type": "stream",
          "name": "stdout",
          "text": [
            "0\n"
          ]
        },
        {
          "output_type": "execute_result",
          "data": {
            "text/plain": [
              "8"
            ]
          },
          "metadata": {},
          "execution_count": 7
        }
      ]
    },
    {
      "cell_type": "markdown",
      "source": [
        "Scaler does not have shape because it does not have an axis.\n",
        "The shape of a tensor is determined by the length of each axis, so if we know the shape of a given tensor, then we know the length of each axis.\n",
        "Here is a \"scalar\" or \"rank-0\" tensor . A scalar contains a single value, and no \"axes\"."
      ],
      "metadata": {
        "id": "JdqAJmalAXbR"
      }
    },
    {
      "cell_type": "code",
      "source": [
        "scaler.shape"
      ],
      "metadata": {
        "colab": {
          "base_uri": "https://localhost:8080/"
        },
        "id": "NnoCpVl5ALkA",
        "outputId": "f52728f3-decf-4922-9d41-a27fb3bc3e1d"
      },
      "execution_count": null,
      "outputs": [
        {
          "output_type": "execute_result",
          "data": {
            "text/plain": [
              "torch.Size([])"
            ]
          },
          "metadata": {},
          "execution_count": 10
        }
      ]
    },
    {
      "cell_type": "code",
      "source": [
        "# Vector\n",
        "vector = torch.tensor([7, 9])\n",
        "vector"
      ],
      "metadata": {
        "colab": {
          "base_uri": "https://localhost:8080/"
        },
        "id": "PJjGG8L9SIku",
        "outputId": "505f9105-c8b5-49d0-80a9-c62977b84849"
      },
      "execution_count": null,
      "outputs": [
        {
          "output_type": "execute_result",
          "data": {
            "text/plain": [
              "tensor([7, 9])"
            ]
          },
          "metadata": {},
          "execution_count": 21
        }
      ]
    },
    {
      "cell_type": "code",
      "source": [
        "vector.item"
      ],
      "metadata": {
        "colab": {
          "base_uri": "https://localhost:8080/"
        },
        "id": "nSoX72U6E0_E",
        "outputId": "0d9fff26-16e5-4845-f322-4062073abfd5"
      },
      "execution_count": null,
      "outputs": [
        {
          "output_type": "execute_result",
          "data": {
            "text/plain": [
              "<function Tensor.item>"
            ]
          },
          "metadata": {},
          "execution_count": 23
        }
      ]
    },
    {
      "cell_type": "code",
      "source": [
        "# Vector Dimentions\n",
        "print(vector.ndim)\n",
        "# Shape of a vector\n",
        "vector.shape"
      ],
      "metadata": {
        "colab": {
          "base_uri": "https://localhost:8080/"
        },
        "id": "bOb8W1OOSzCE",
        "outputId": "7c1f2282-660e-4cb2-d7b6-5524956da883"
      },
      "execution_count": null,
      "outputs": [
        {
          "output_type": "stream",
          "name": "stdout",
          "text": [
            "1\n"
          ]
        },
        {
          "output_type": "execute_result",
          "data": {
            "text/plain": [
              "torch.Size([2])"
            ]
          },
          "metadata": {},
          "execution_count": 11
        }
      ]
    },
    {
      "cell_type": "markdown",
      "source": [
        "The difference between dimensions and shape is:\n",
        "1. ndim returns INT type, the number of dimentions in the tensor. ndim is equivalent to 'ndim' of Numpy arrays. whereas\n",
        "2. shape return a tuple of number of elements in each dimentions of the tensor. the 'shape' of pytorch tensor is  equivalent to 'shape' attribute of Numpy array. A shape can also be said as the length of each axis(dimensions).\n",
        "\n"
      ],
      "metadata": {
        "id": "4Ohfwbh_TDXO"
      }
    },
    {
      "cell_type": "code",
      "source": [
        "# Matrix\n",
        "MATRIX = torch.tensor([[7, 8],\n",
        "                       [9, 10.7]])\n",
        "MATRIX"
      ],
      "metadata": {
        "colab": {
          "base_uri": "https://localhost:8080/"
        },
        "id": "CXf212cEX8XO",
        "outputId": "a2645684-5a5a-4843-9316-61421b3db83b"
      },
      "execution_count": null,
      "outputs": [
        {
          "output_type": "execute_result",
          "data": {
            "text/plain": [
              "tensor([[ 7.0000,  8.0000],\n",
              "        [ 9.0000, 10.7000]])"
            ]
          },
          "metadata": {},
          "execution_count": 5
        }
      ]
    },
    {
      "cell_type": "code",
      "source": [
        "MATRIX.ndim"
      ],
      "metadata": {
        "colab": {
          "base_uri": "https://localhost:8080/"
        },
        "id": "bTy43WtZYVyd",
        "outputId": "d29aeb5e-e25b-45f6-d0f8-0b9fa535f2f0"
      },
      "execution_count": null,
      "outputs": [
        {
          "output_type": "execute_result",
          "data": {
            "text/plain": [
              "2"
            ]
          },
          "metadata": {},
          "execution_count": 14
        }
      ]
    },
    {
      "cell_type": "code",
      "source": [
        "MATRIX.shape"
      ],
      "metadata": {
        "colab": {
          "base_uri": "https://localhost:8080/"
        },
        "id": "GsBADHU5YZwQ",
        "outputId": "70e63bef-ff4f-4da2-9edc-fcf6892f95f8"
      },
      "execution_count": null,
      "outputs": [
        {
          "output_type": "execute_result",
          "data": {
            "text/plain": [
              "torch.Size([2, 2])"
            ]
          },
          "metadata": {},
          "execution_count": 15
        }
      ]
    },
    {
      "cell_type": "code",
      "source": [
        "# TENSOR\n",
        "TENSOR = torch.tensor([[[1, 2, 3],\n",
        "                        [4, 5, 6],\n",
        "                        [7, 8, 9]]])\n",
        "TENSOR"
      ],
      "metadata": {
        "colab": {
          "base_uri": "https://localhost:8080/"
        },
        "id": "iM3QdGQtZgbi",
        "outputId": "589e563b-8efb-4f03-f5de-05c59332f02f"
      },
      "execution_count": null,
      "outputs": [
        {
          "output_type": "execute_result",
          "data": {
            "text/plain": [
              "tensor([[[1, 2, 3],\n",
              "         [4, 5, 6],\n",
              "         [7, 8, 9]]])"
            ]
          },
          "metadata": {},
          "execution_count": 9
        }
      ]
    },
    {
      "cell_type": "code",
      "source": [
        "TENSOR.ndim"
      ],
      "metadata": {
        "colab": {
          "base_uri": "https://localhost:8080/"
        },
        "id": "hRmyyS9VaDr7",
        "outputId": "465585ed-4d19-4e6b-8d8c-81e3de525e90"
      },
      "execution_count": null,
      "outputs": [
        {
          "output_type": "execute_result",
          "data": {
            "text/plain": [
              "3"
            ]
          },
          "metadata": {},
          "execution_count": 6
        }
      ]
    },
    {
      "cell_type": "code",
      "source": [
        "TENSOR.shape"
      ],
      "metadata": {
        "colab": {
          "base_uri": "https://localhost:8080/"
        },
        "id": "7Mdoha9CZ7d8",
        "outputId": "31f84a26-4ac0-482f-fedc-6ecc1d01adbc"
      },
      "execution_count": null,
      "outputs": [
        {
          "output_type": "execute_result",
          "data": {
            "text/plain": [
              "torch.Size([1, 3, 3])"
            ]
          },
          "metadata": {},
          "execution_count": 4
        }
      ]
    },
    {
      "cell_type": "markdown",
      "source": [
        "why [1, 3, 3]?\n",
        "bcz, the TENSOR has 3 dimensions\n",
        "1. In the dim=0 it has 1 element where the element is itself a tensor.\n",
        "2. In the dim=1 it has 3 elements which are \"1-dimension tensors\".\n",
        "3. In the dim=2 it has 3 elements in each \"1-dim tensors\".\n",
        "\n",
        "Further read it on: https://www.learnpytorch.io/00_pytorch_fundamentals/"
      ],
      "metadata": {
        "id": "zTr9w-RqZ-KI"
      }
    },
    {
      "cell_type": "code",
      "source": [
        "x.shape # it is an attribute.\n",
        "# both returns the same thing"
      ],
      "metadata": {
        "colab": {
          "base_uri": "https://localhost:8080/"
        },
        "id": "cV2ZkzRfDAgb",
        "outputId": "6792ad27-53a2-4885-d523-1c1d91e7d235"
      },
      "execution_count": null,
      "outputs": [
        {
          "output_type": "execute_result",
          "data": {
            "text/plain": [
              "torch.Size([3, 4])"
            ]
          },
          "metadata": {},
          "execution_count": 14
        }
      ]
    },
    {
      "cell_type": "code",
      "source": [
        "x.size() # this is a function."
      ],
      "metadata": {
        "colab": {
          "base_uri": "https://localhost:8080/"
        },
        "id": "n00mrUa9DAbE",
        "outputId": "837792e2-e902-45c0-ee46-2040f40ea87c"
      },
      "execution_count": null,
      "outputs": [
        {
          "output_type": "execute_result",
          "data": {
            "text/plain": [
              "torch.Size([3, 4])"
            ]
          },
          "metadata": {},
          "execution_count": 15
        }
      ]
    },
    {
      "cell_type": "markdown",
      "source": [
        "# Random Tensors\n",
        "Why random tensors?\n",
        "\n",
        "Random tensor sare important because the way nural networks learns is that they start with tensors full of random numbers and then adjust those ranndom numbers to better represent the data.\n",
        "\n",
        "`Start with random numbers -> look at data -> update random numbers -> look at data -> update random numbers`\n"
      ],
      "metadata": {
        "id": "wiXUyZQH7gcT"
      }
    },
    {
      "cell_type": "code",
      "source": [
        "# create a random tensoor of size (3, 4)\n",
        "random_tensor = torch.rand(0)\n",
        "random_tensor"
      ],
      "metadata": {
        "id": "oZ37tpQ6dxd3",
        "colab": {
          "base_uri": "https://localhost:8080/"
        },
        "outputId": "413ae18c-b020-4335-809b-c1d135d868bd"
      },
      "execution_count": null,
      "outputs": [
        {
          "output_type": "execute_result",
          "data": {
            "text/plain": [
              "tensor([])"
            ]
          },
          "metadata": {},
          "execution_count": 8
        }
      ]
    },
    {
      "cell_type": "code",
      "source": [
        "random_tensor.ndim"
      ],
      "metadata": {
        "colab": {
          "base_uri": "https://localhost:8080/"
        },
        "id": "btFgZV1d-pXp",
        "outputId": "a8e197e7-f5e2-4a65-b913-3e4720118702"
      },
      "execution_count": null,
      "outputs": [
        {
          "output_type": "execute_result",
          "data": {
            "text/plain": [
              "1"
            ]
          },
          "metadata": {},
          "execution_count": 9
        }
      ]
    },
    {
      "cell_type": "code",
      "source": [
        "tensor = torch.tensor([])"
      ],
      "metadata": {
        "id": "XWszsk7bCOfJ"
      },
      "execution_count": null,
      "outputs": []
    },
    {
      "cell_type": "code",
      "source": [
        "tensor.ndim"
      ],
      "metadata": {
        "colab": {
          "base_uri": "https://localhost:8080/"
        },
        "id": "_CDdwgL3CVRX",
        "outputId": "d38f092c-bf19-4ca3-fd25-87651361749f"
      },
      "execution_count": null,
      "outputs": [
        {
          "output_type": "execute_result",
          "data": {
            "text/plain": [
              "1"
            ]
          },
          "metadata": {},
          "execution_count": 16
        }
      ]
    },
    {
      "cell_type": "code",
      "source": [
        "tensor.shape"
      ],
      "metadata": {
        "colab": {
          "base_uri": "https://localhost:8080/"
        },
        "id": "kdARj-KjCabb",
        "outputId": "b44c4247-8f47-44bf-b232-c7f1ee7509c7"
      },
      "execution_count": null,
      "outputs": [
        {
          "output_type": "execute_result",
          "data": {
            "text/plain": [
              "torch.Size([0])"
            ]
          },
          "metadata": {},
          "execution_count": 17
        }
      ]
    },
    {
      "cell_type": "code",
      "source": [
        "rnd_ten = torch.rand(10, 10, 10)\n",
        "rnd_ten"
      ],
      "metadata": {
        "id": "wEsB82eNC68M",
        "colab": {
          "base_uri": "https://localhost:8080/"
        },
        "outputId": "2b62e633-08bc-434f-8f22-2ff111f494d6"
      },
      "execution_count": null,
      "outputs": [
        {
          "output_type": "execute_result",
          "data": {
            "text/plain": [
              "tensor([[[4.3176e-01, 1.3141e-01, 6.8434e-01, 8.6312e-01, 1.5119e-01,\n",
              "          6.6881e-01, 9.0970e-01, 8.9952e-01, 8.1086e-01, 9.7743e-01],\n",
              "         [7.9128e-01, 6.1333e-01, 5.0580e-01, 1.8803e-01, 7.9495e-01,\n",
              "          7.9954e-01, 4.4633e-01, 3.3856e-01, 7.5537e-01, 7.2052e-01],\n",
              "         [1.4276e-01, 6.0663e-01, 3.8606e-01, 6.3782e-01, 1.0673e-01,\n",
              "          2.6098e-01, 4.4448e-01, 9.2990e-02, 2.7937e-01, 3.4200e-01],\n",
              "         [3.5328e-03, 3.9373e-01, 8.1085e-01, 6.8922e-01, 5.5892e-01,\n",
              "          8.5836e-01, 6.9280e-01, 5.4993e-01, 3.5355e-01, 3.1639e-01],\n",
              "         [3.5951e-01, 8.3514e-01, 2.8172e-01, 9.4151e-01, 1.1711e-02,\n",
              "          5.6191e-01, 3.0901e-01, 7.5081e-01, 2.2129e-01, 2.3014e-02],\n",
              "         [3.7301e-01, 5.7073e-01, 2.8031e-01, 4.1069e-01, 7.9211e-01,\n",
              "          8.6244e-01, 1.8108e-01, 5.4557e-01, 5.0305e-01, 3.4990e-01],\n",
              "         [7.4823e-01, 6.7528e-01, 1.0987e-01, 7.8293e-01, 6.2224e-01,\n",
              "          4.6723e-01, 7.5436e-01, 2.3825e-01, 4.5611e-01, 1.0622e-01],\n",
              "         [7.2455e-01, 6.0301e-01, 3.5499e-01, 2.4682e-01, 1.0463e-01,\n",
              "          8.8389e-01, 3.1396e-01, 3.0423e-02, 4.2729e-01, 5.3444e-01],\n",
              "         [7.8869e-01, 8.9730e-02, 1.9177e-01, 1.6362e-01, 1.6630e-01,\n",
              "          2.6731e-01, 3.7838e-01, 4.4381e-01, 2.9087e-02, 8.4941e-02],\n",
              "         [1.5785e-02, 7.4733e-01, 8.7234e-01, 9.2352e-01, 5.4498e-01,\n",
              "          8.1376e-01, 9.2841e-01, 5.0401e-01, 6.5501e-01, 8.0286e-01]],\n",
              "\n",
              "        [[5.7385e-01, 4.9175e-01, 6.9739e-01, 8.6503e-01, 4.4099e-01,\n",
              "          2.3423e-01, 1.9170e-01, 3.4298e-02, 9.7662e-01, 8.9113e-01],\n",
              "         [8.8891e-01, 3.8562e-01, 5.1426e-01, 5.5755e-01, 8.0189e-01,\n",
              "          6.5518e-02, 8.2008e-01, 2.5642e-01, 3.3154e-01, 1.9561e-01],\n",
              "         [7.3410e-01, 3.6600e-01, 9.5665e-01, 2.0668e-01, 5.4496e-01,\n",
              "          1.1692e-01, 9.1573e-01, 4.3569e-01, 2.5232e-01, 1.4273e-01],\n",
              "         [8.9357e-01, 2.2202e-01, 1.2678e-01, 1.3630e-01, 1.1243e-01,\n",
              "          9.6702e-02, 4.6944e-01, 2.7600e-01, 7.0991e-01, 2.3879e-01],\n",
              "         [2.5996e-01, 2.0764e-01, 6.9858e-01, 8.9972e-02, 6.2432e-01,\n",
              "          5.4918e-01, 4.0356e-01, 3.2626e-01, 4.0095e-01, 8.9757e-01],\n",
              "         [6.0309e-01, 7.9100e-01, 5.6537e-01, 3.9247e-01, 4.6540e-03,\n",
              "          4.2763e-01, 5.6551e-02, 5.3914e-01, 9.3746e-02, 7.0466e-01],\n",
              "         [5.8400e-02, 6.3572e-01, 8.9523e-02, 7.1894e-01, 1.0350e-01,\n",
              "          9.8741e-01, 1.1562e-01, 5.3965e-01, 3.3859e-01, 8.9308e-01],\n",
              "         [5.3464e-01, 7.0780e-01, 8.6631e-01, 7.8633e-01, 2.6395e-02,\n",
              "          6.2933e-01, 1.7457e-01, 7.3105e-02, 6.4540e-01, 1.6151e-01],\n",
              "         [1.4489e-01, 7.2544e-01, 7.5736e-01, 5.1352e-01, 1.1270e-01,\n",
              "          5.1580e-01, 1.2123e-01, 2.7160e-02, 6.3779e-01, 3.6015e-01],\n",
              "         [4.4863e-01, 2.0464e-01, 4.1236e-01, 2.4155e-01, 7.2144e-01,\n",
              "          8.8974e-01, 9.9888e-01, 7.3154e-01, 4.8470e-02, 3.9380e-01]],\n",
              "\n",
              "        [[4.2579e-02, 5.7209e-01, 3.7747e-02, 4.5941e-01, 4.5758e-01,\n",
              "          4.8729e-01, 9.1513e-01, 9.2427e-01, 2.3054e-01, 5.4559e-01],\n",
              "         [2.5560e-01, 3.7322e-01, 4.5781e-01, 9.1411e-01, 3.7512e-01,\n",
              "          1.8596e-01, 7.9561e-01, 3.6593e-01, 2.2212e-01, 1.2907e-01],\n",
              "         [1.8553e-01, 4.5055e-01, 4.1244e-01, 1.4552e-01, 5.5884e-01,\n",
              "          1.8218e-01, 2.6992e-01, 3.1579e-01, 1.8415e-01, 8.5989e-01],\n",
              "         [3.5010e-01, 8.4356e-01, 7.0952e-01, 8.4765e-02, 7.3608e-01,\n",
              "          5.2938e-01, 4.3964e-01, 8.3972e-01, 6.0886e-01, 9.3996e-01],\n",
              "         [2.3158e-01, 3.9184e-01, 3.2205e-01, 9.5711e-01, 7.0144e-01,\n",
              "          2.3793e-01, 2.3745e-01, 3.9119e-01, 4.1888e-01, 4.0725e-01],\n",
              "         [9.1870e-01, 7.7288e-01, 7.5374e-01, 2.3484e-01, 1.8042e-01,\n",
              "          7.7954e-01, 1.9505e-01, 9.2323e-01, 2.7346e-01, 5.2659e-01],\n",
              "         [7.6960e-01, 2.6899e-01, 3.5447e-01, 8.7469e-01, 3.9337e-01,\n",
              "          5.6910e-01, 6.9662e-01, 4.3674e-01, 4.0108e-01, 2.2250e-01],\n",
              "         [8.3470e-01, 8.9762e-02, 7.1427e-01, 6.6943e-01, 2.1444e-01,\n",
              "          5.9005e-01, 8.1921e-01, 4.7461e-02, 5.7376e-01, 4.4907e-01],\n",
              "         [2.2393e-01, 2.2515e-01, 6.1100e-01, 7.0600e-01, 1.8139e-01,\n",
              "          3.0669e-01, 5.5566e-01, 7.5804e-01, 8.1564e-01, 5.2960e-01],\n",
              "         [7.9623e-01, 3.4109e-01, 6.4154e-01, 1.3373e-01, 8.6315e-01,\n",
              "          1.3511e-01, 3.4128e-01, 6.8635e-01, 6.3935e-01, 8.8044e-02]],\n",
              "\n",
              "        [[5.7945e-01, 6.6977e-01, 9.4999e-01, 9.3680e-01, 2.7489e-02,\n",
              "          3.3822e-01, 9.7345e-01, 4.8321e-01, 6.0207e-01, 6.0787e-01],\n",
              "         [9.9552e-01, 6.0335e-01, 6.5338e-01, 6.8812e-01, 4.9841e-01,\n",
              "          7.3568e-02, 8.8045e-01, 2.4484e-01, 6.5949e-01, 4.2353e-01],\n",
              "         [1.3948e-01, 3.4885e-01, 8.3324e-01, 2.8645e-01, 6.5719e-01,\n",
              "          4.9943e-01, 4.0586e-01, 3.5637e-03, 7.5811e-01, 1.0242e-01],\n",
              "         [1.9785e-01, 4.1087e-02, 4.2522e-01, 8.6768e-01, 4.1243e-03,\n",
              "          3.1062e-01, 3.3093e-01, 2.0801e-01, 5.2067e-01, 5.8384e-01],\n",
              "         [8.6396e-01, 5.9839e-01, 3.0765e-01, 8.0450e-01, 4.1320e-01,\n",
              "          2.4399e-01, 3.0440e-01, 2.8742e-01, 3.0756e-01, 5.5051e-01],\n",
              "         [6.1550e-01, 1.0472e-01, 9.5691e-01, 6.6874e-01, 5.1095e-01,\n",
              "          7.9832e-01, 9.2700e-01, 6.0411e-03, 1.9813e-01, 9.4191e-01],\n",
              "         [8.2869e-01, 7.5866e-01, 7.6145e-01, 3.3700e-01, 1.1234e-02,\n",
              "          5.5887e-01, 1.1063e-01, 9.8645e-01, 8.7012e-01, 1.6450e-01],\n",
              "         [1.1199e-02, 6.1292e-01, 1.7805e-01, 4.1555e-01, 9.4348e-01,\n",
              "          9.3281e-01, 1.4202e-01, 4.2817e-01, 2.3704e-01, 9.5548e-01],\n",
              "         [5.4324e-01, 9.1980e-01, 1.0526e-01, 6.4209e-01, 3.5450e-01,\n",
              "          4.3622e-01, 9.7816e-02, 4.7996e-01, 3.5034e-01, 7.2705e-01],\n",
              "         [5.1425e-01, 5.6972e-01, 6.2649e-01, 4.0852e-01, 7.0712e-01,\n",
              "          3.3672e-01, 7.5133e-01, 3.6274e-01, 8.1747e-02, 4.6850e-01]],\n",
              "\n",
              "        [[3.2720e-01, 2.7624e-01, 3.0415e-01, 7.4060e-01, 4.6562e-01,\n",
              "          7.8622e-01, 2.5936e-02, 4.9071e-01, 7.8242e-01, 6.5289e-01],\n",
              "         [5.9551e-02, 6.1968e-01, 4.4298e-01, 3.7356e-01, 4.9670e-01,\n",
              "          4.3212e-02, 6.2588e-01, 1.4135e-01, 6.6124e-02, 5.4022e-01],\n",
              "         [5.3220e-01, 6.8984e-01, 4.6353e-01, 5.2462e-01, 5.5558e-01,\n",
              "          3.6422e-01, 3.1017e-01, 9.0551e-01, 7.1064e-02, 3.2766e-01],\n",
              "         [2.6627e-01, 5.8161e-01, 4.3080e-01, 6.9786e-01, 7.5017e-01,\n",
              "          2.2116e-01, 9.8540e-01, 5.5390e-01, 7.8570e-01, 3.4536e-01],\n",
              "         [5.2108e-01, 6.0402e-01, 3.1845e-01, 3.6537e-01, 1.7353e-01,\n",
              "          2.2725e-01, 5.0990e-01, 9.3315e-01, 9.2278e-01, 2.0154e-01],\n",
              "         [2.7809e-01, 8.2721e-01, 8.3968e-01, 9.2653e-01, 3.3465e-01,\n",
              "          8.2141e-01, 7.5270e-01, 1.7772e-01, 4.1572e-01, 8.7257e-01],\n",
              "         [6.7677e-01, 4.9429e-01, 5.8872e-01, 9.7274e-01, 3.2406e-01,\n",
              "          3.4679e-01, 7.6671e-01, 5.3216e-01, 4.2688e-01, 1.1123e-01],\n",
              "         [7.4563e-01, 7.3261e-01, 3.1501e-01, 1.5627e-01, 8.2332e-01,\n",
              "          6.1036e-01, 8.0010e-01, 2.0127e-01, 4.8683e-01, 3.8018e-01],\n",
              "         [8.9385e-01, 1.0861e-01, 4.0914e-01, 2.0333e-01, 3.3581e-01,\n",
              "          4.6080e-01, 9.1455e-01, 3.2999e-01, 4.7020e-01, 2.8474e-01],\n",
              "         [1.7574e-01, 9.6559e-01, 7.2740e-02, 6.2064e-01, 9.4197e-01,\n",
              "          8.4491e-01, 8.7163e-01, 1.0882e-01, 5.5235e-02, 9.4283e-01]],\n",
              "\n",
              "        [[2.8105e-01, 1.2782e-01, 5.0114e-01, 7.3330e-01, 2.5322e-01,\n",
              "          2.5409e-01, 7.4818e-01, 5.1070e-01, 6.4024e-01, 8.6827e-01],\n",
              "         [4.0953e-01, 5.6418e-02, 4.7395e-01, 4.2078e-01, 2.0980e-01,\n",
              "          3.3289e-01, 1.7800e-01, 2.8252e-01, 9.5663e-01, 2.3996e-01],\n",
              "         [5.9552e-01, 7.3801e-01, 6.9159e-01, 9.4050e-01, 3.6145e-01,\n",
              "          7.2709e-01, 4.9399e-01, 3.4909e-01, 6.5585e-01, 2.1499e-01],\n",
              "         [4.9169e-02, 4.9088e-01, 3.3535e-01, 9.6015e-01, 2.7732e-01,\n",
              "          2.3355e-02, 3.4767e-01, 4.4763e-01, 6.3856e-02, 6.5610e-01],\n",
              "         [5.9267e-01, 7.3533e-01, 8.1364e-01, 6.7969e-01, 3.6106e-01,\n",
              "          9.1354e-02, 9.4147e-01, 4.6327e-01, 4.0008e-01, 8.2608e-01],\n",
              "         [7.0857e-01, 6.3668e-01, 5.1981e-01, 5.2906e-01, 2.9552e-01,\n",
              "          2.8185e-01, 8.0806e-01, 6.4397e-01, 3.9361e-01, 2.9343e-01],\n",
              "         [1.6839e-01, 2.2244e-01, 5.4599e-01, 5.3359e-01, 3.2482e-01,\n",
              "          5.2605e-01, 3.0384e-01, 4.9877e-01, 4.4711e-02, 6.7849e-01],\n",
              "         [5.8695e-01, 7.3847e-01, 9.3020e-01, 4.9114e-01, 6.5401e-02,\n",
              "          9.6961e-01, 3.4059e-01, 4.8884e-01, 2.9847e-01, 7.6035e-01],\n",
              "         [3.4885e-01, 1.6732e-01, 9.7420e-01, 4.9532e-01, 7.3136e-01,\n",
              "          4.9014e-01, 2.9310e-01, 1.9001e-01, 4.7038e-01, 2.6265e-01],\n",
              "         [8.1620e-01, 6.4466e-01, 7.6456e-01, 6.8414e-02, 7.6783e-01,\n",
              "          1.6054e-01, 8.0400e-01, 3.8581e-01, 5.7104e-01, 9.1122e-01]],\n",
              "\n",
              "        [[7.3285e-01, 4.6465e-03, 5.1228e-01, 6.3901e-01, 6.6399e-01,\n",
              "          2.8704e-01, 3.0402e-02, 6.9544e-01, 4.2769e-01, 1.0350e-01],\n",
              "         [9.3549e-01, 7.0455e-01, 6.7307e-01, 7.9432e-01, 1.3984e-01,\n",
              "          8.5292e-01, 9.5126e-01, 6.7238e-01, 4.3350e-01, 7.9411e-01],\n",
              "         [7.1662e-01, 9.9852e-01, 4.1369e-01, 9.0287e-01, 4.9755e-01,\n",
              "          5.7326e-01, 4.2658e-01, 8.5778e-01, 5.0006e-01, 2.8189e-01],\n",
              "         [4.1779e-01, 7.3020e-01, 3.7639e-01, 1.9840e-01, 8.5308e-01,\n",
              "          1.5741e-02, 1.1678e-01, 2.9064e-01, 6.7885e-01, 5.0471e-01],\n",
              "         [3.5533e-01, 8.9325e-01, 3.6014e-01, 3.9119e-01, 5.5856e-01,\n",
              "          4.0325e-01, 4.8647e-01, 8.0835e-02, 7.5536e-02, 8.8206e-01],\n",
              "         [8.3995e-01, 6.3582e-01, 2.6626e-01, 2.2515e-01, 8.7684e-01,\n",
              "          7.9014e-01, 7.6390e-02, 8.6642e-01, 5.5676e-01, 6.7271e-01],\n",
              "         [6.0804e-01, 8.4514e-01, 8.6739e-01, 9.8877e-01, 1.5001e-01,\n",
              "          8.9717e-01, 1.0163e-01, 6.0917e-01, 6.0056e-01, 1.1959e-01],\n",
              "         [3.9746e-01, 4.7329e-01, 8.7011e-01, 1.4062e-01, 5.9104e-01,\n",
              "          6.1531e-01, 1.5668e-01, 1.5996e-01, 2.4391e-01, 4.9031e-01],\n",
              "         [3.3347e-01, 8.6003e-01, 4.1179e-01, 8.1583e-01, 6.1441e-01,\n",
              "          3.6555e-01, 7.0064e-01, 7.6922e-01, 9.2550e-01, 5.4441e-01],\n",
              "         [9.0732e-01, 4.2940e-01, 4.5829e-01, 4.5501e-01, 6.8380e-01,\n",
              "          8.6835e-01, 5.1049e-01, 9.4748e-04, 7.7123e-01, 3.6558e-01]],\n",
              "\n",
              "        [[9.5213e-01, 8.1263e-02, 2.6438e-01, 6.9131e-01, 2.3878e-01,\n",
              "          1.0196e-01, 7.1841e-01, 5.4727e-01, 8.5564e-01, 1.9338e-01],\n",
              "         [7.9577e-01, 5.0939e-01, 4.0484e-01, 3.9495e-01, 7.4925e-01,\n",
              "          1.1514e-01, 8.4277e-01, 2.0660e-02, 4.5989e-01, 5.9851e-01],\n",
              "         [2.2769e-01, 6.6658e-01, 5.0432e-01, 8.4848e-01, 5.1543e-01,\n",
              "          5.5115e-01, 2.5201e-01, 3.2699e-01, 4.2592e-02, 4.3191e-01],\n",
              "         [4.0006e-03, 6.8797e-01, 2.9482e-01, 1.0144e-01, 1.5664e-01,\n",
              "          3.3590e-02, 2.9953e-01, 6.6340e-01, 9.7330e-02, 3.3757e-01],\n",
              "         [5.3165e-01, 8.7484e-01, 4.4514e-01, 3.2005e-01, 7.5903e-01,\n",
              "          6.4153e-01, 1.0281e-01, 6.9662e-01, 1.4834e-01, 4.2105e-01],\n",
              "         [6.7295e-01, 2.7806e-01, 3.2818e-02, 1.8190e-01, 9.3293e-02,\n",
              "          2.5487e-01, 7.9857e-01, 2.3568e-01, 9.9572e-01, 6.4239e-01],\n",
              "         [2.0621e-01, 8.6036e-03, 9.8752e-01, 8.6686e-01, 9.2602e-01,\n",
              "          4.1323e-01, 2.6594e-01, 3.3168e-01, 5.1444e-01, 8.6906e-01],\n",
              "         [3.6118e-01, 6.4147e-01, 4.1386e-01, 4.4513e-01, 8.6965e-01,\n",
              "          9.1327e-01, 6.1663e-01, 3.2219e-01, 7.4439e-01, 7.9796e-01],\n",
              "         [8.3945e-02, 9.0357e-01, 4.2865e-01, 5.4723e-01, 6.0716e-01,\n",
              "          7.5659e-01, 9.9738e-01, 6.9611e-01, 5.6543e-01, 3.0802e-01],\n",
              "         [8.9766e-01, 5.2729e-01, 7.8448e-01, 6.2960e-01, 9.9692e-01,\n",
              "          9.9504e-02, 9.9998e-02, 8.1841e-01, 9.3776e-01, 8.1360e-01]],\n",
              "\n",
              "        [[4.0718e-01, 5.8321e-01, 3.1147e-01, 2.7200e-01, 9.0418e-01,\n",
              "          7.8500e-01, 5.9153e-01, 6.8122e-01, 2.4490e-02, 3.3367e-01],\n",
              "         [2.5719e-01, 6.9822e-01, 3.8858e-01, 6.8191e-01, 3.4303e-01,\n",
              "          1.3507e-01, 8.8464e-01, 7.6215e-01, 8.4098e-01, 7.1511e-01],\n",
              "         [8.3384e-01, 4.8557e-01, 1.4467e-02, 3.2465e-01, 9.8524e-01,\n",
              "          5.1205e-01, 9.7138e-01, 5.6751e-01, 7.3373e-01, 6.7378e-01],\n",
              "         [5.8975e-01, 9.2822e-02, 5.8213e-01, 3.4784e-01, 5.2860e-01,\n",
              "          5.4756e-01, 1.8184e-01, 9.0877e-01, 8.9523e-01, 4.0735e-01],\n",
              "         [4.2188e-02, 9.3243e-01, 3.4582e-01, 1.6884e-01, 5.2059e-01,\n",
              "          2.5958e-01, 9.6385e-01, 2.8613e-01, 5.7249e-01, 4.8236e-03],\n",
              "         [7.3893e-01, 5.4061e-01, 1.6313e-01, 1.3855e-02, 8.2998e-01,\n",
              "          6.2792e-03, 7.1171e-01, 8.9745e-01, 5.2832e-01, 2.9814e-01],\n",
              "         [4.4653e-01, 4.5512e-01, 5.8112e-01, 8.4408e-01, 7.3290e-01,\n",
              "          5.0895e-01, 9.7598e-01, 2.5303e-01, 5.6231e-01, 2.9654e-01],\n",
              "         [5.8243e-01, 6.2466e-01, 8.3663e-01, 6.4851e-01, 3.6577e-01,\n",
              "          9.5623e-01, 7.7328e-01, 5.6949e-01, 7.1389e-01, 5.2910e-01],\n",
              "         [5.1038e-01, 5.4177e-01, 6.7173e-02, 1.9539e-02, 6.4708e-01,\n",
              "          7.3255e-01, 7.8076e-01, 1.4491e-01, 9.6538e-01, 1.0790e-02],\n",
              "         [8.6758e-01, 3.7224e-01, 2.8884e-01, 5.0799e-01, 4.5361e-01,\n",
              "          9.7451e-01, 1.8594e-01, 8.3738e-01, 4.4822e-01, 6.7999e-01]],\n",
              "\n",
              "        [[2.8969e-01, 4.3891e-01, 1.2353e-01, 8.7104e-01, 1.2752e-01,\n",
              "          4.7616e-01, 1.1151e-01, 8.2101e-01, 8.4825e-01, 3.7484e-01],\n",
              "         [3.2965e-01, 6.4768e-01, 2.8099e-01, 2.2986e-01, 2.6175e-01,\n",
              "          2.8421e-01, 2.2131e-01, 8.7455e-03, 8.5327e-01, 4.4762e-01],\n",
              "         [6.0613e-02, 5.3784e-01, 2.1784e-01, 7.8535e-01, 3.9978e-01,\n",
              "          8.6455e-01, 3.6998e-01, 4.1533e-01, 2.2775e-01, 3.5909e-01],\n",
              "         [2.2022e-01, 8.8407e-01, 2.3587e-01, 9.4276e-01, 6.0062e-02,\n",
              "          5.4611e-01, 9.1554e-01, 5.0051e-01, 5.5094e-01, 2.5434e-01],\n",
              "         [7.2528e-01, 5.7975e-01, 8.0908e-01, 8.2764e-01, 4.0000e-02,\n",
              "          3.6590e-01, 4.7191e-01, 7.8962e-01, 5.3840e-01, 2.2285e-02],\n",
              "         [2.8141e-01, 5.1938e-01, 1.6044e-01, 3.3674e-01, 3.0458e-01,\n",
              "          7.5014e-01, 3.4981e-01, 3.2923e-01, 7.2151e-01, 4.4870e-01],\n",
              "         [9.0550e-01, 4.0849e-01, 9.1792e-01, 8.3097e-01, 5.7033e-01,\n",
              "          8.8353e-01, 5.7077e-01, 9.3640e-01, 6.5654e-01, 1.7042e-01],\n",
              "         [4.7493e-01, 5.3425e-01, 1.5631e-01, 4.2218e-01, 1.8207e-02,\n",
              "          5.4363e-01, 1.5547e-01, 2.9068e-01, 3.4134e-01, 1.6493e-01],\n",
              "         [1.4895e-01, 2.4796e-01, 2.9400e-01, 2.4758e-01, 7.3048e-01,\n",
              "          5.4744e-02, 4.9517e-01, 9.2836e-01, 4.3818e-01, 3.7619e-01],\n",
              "         [4.4733e-01, 3.6034e-01, 4.9756e-01, 7.0299e-01, 9.1762e-01,\n",
              "          8.7408e-01, 4.4215e-01, 5.7189e-01, 1.2586e-01, 7.3702e-01]]])"
            ]
          },
          "metadata": {},
          "execution_count": 10
        }
      ]
    },
    {
      "cell_type": "code",
      "source": [
        "rnd_ten.ndim"
      ],
      "metadata": {
        "colab": {
          "base_uri": "https://localhost:8080/"
        },
        "id": "MXc6ZzH-EIbX",
        "outputId": "b298a574-20b8-4bce-d6f0-3f018e8d639d"
      },
      "execution_count": null,
      "outputs": [
        {
          "output_type": "execute_result",
          "data": {
            "text/plain": [
              "3"
            ]
          },
          "metadata": {},
          "execution_count": 11
        }
      ]
    },
    {
      "cell_type": "markdown",
      "source": [
        "# Creating Tensor similar shape to an image tensor.\n",
        "\n",
        "Follow : https://www.learnpytorch.io/00_pytorch_fundamentals/"
      ],
      "metadata": {
        "id": "3nuGHwkOFSUk"
      }
    },
    {
      "cell_type": "code",
      "source": [
        "random_image_size_tensor = torch.rand(size=(3, 224, 224)) # colour channels (R, B, G), height, width\n",
        "random_image_size_tensor.shape, random_image_size_tensor.ndim"
      ],
      "metadata": {
        "colab": {
          "base_uri": "https://localhost:8080/"
        },
        "id": "0RJAdZo7FdnF",
        "outputId": "4ddbd8e8-7832-44fc-a397-878137db5fe0"
      },
      "execution_count": null,
      "outputs": [
        {
          "output_type": "execute_result",
          "data": {
            "text/plain": [
              "(torch.Size([3, 224, 224]), 3)"
            ]
          },
          "metadata": {},
          "execution_count": 26
        }
      ]
    },
    {
      "cell_type": "markdown",
      "source": [
        "# Zeros and ones tensors\n"
      ],
      "metadata": {
        "id": "jnNdEfXDH7XP"
      }
    },
    {
      "cell_type": "code",
      "source": [
        "# creating a tensor fo all zeros\n",
        "zeros = torch.zeros(size=(3, 4))\n",
        "zeros"
      ],
      "metadata": {
        "colab": {
          "base_uri": "https://localhost:8080/"
        },
        "id": "BOfZ1XXvJKsx",
        "outputId": "baee5251-2759-4a9a-b451-574fce390654"
      },
      "execution_count": null,
      "outputs": [
        {
          "output_type": "execute_result",
          "data": {
            "text/plain": [
              "tensor([[0., 0., 0., 0.],\n",
              "        [0., 0., 0., 0.],\n",
              "        [0., 0., 0., 0.]])"
            ]
          },
          "metadata": {},
          "execution_count": 27
        }
      ]
    },
    {
      "cell_type": "markdown",
      "source": [
        "Zeros tensors are used to hide unnecessary data in the tensor and alows machine to focus on the actual ones.\n",
        "For exp: `zeros*rnd_ten` will convert all the numbers into zeros, similarly if we wanted to hide only a row we can just multiply that row with zeros in order tell the machine to ingore the row.\n",
        "More commonly used than ones."
      ],
      "metadata": {
        "id": "e1w9dPGDKS4A"
      }
    },
    {
      "cell_type": "code",
      "source": [
        "# creating a tensor of all ones\n",
        "ones = torch.ones(size=(3, 4))\n",
        "ones"
      ],
      "metadata": {
        "colab": {
          "base_uri": "https://localhost:8080/"
        },
        "id": "zATRMdjLJdwy",
        "outputId": "2aa6d039-6ca8-41ec-c135-fbf283ce23cc"
      },
      "execution_count": null,
      "outputs": [
        {
          "output_type": "execute_result",
          "data": {
            "text/plain": [
              "tensor([[1., 1., 1., 1.],\n",
              "        [1., 1., 1., 1.],\n",
              "        [1., 1., 1., 1.]])"
            ]
          },
          "metadata": {},
          "execution_count": 28
        }
      ]
    },
    {
      "cell_type": "code",
      "source": [
        "ones.dtype\n"
      ],
      "metadata": {
        "colab": {
          "base_uri": "https://localhost:8080/"
        },
        "id": "pUW83wUpJ1oO",
        "outputId": "ffcf53c4-5b08-4f21-fc44-1899066c98d3"
      },
      "execution_count": null,
      "outputs": [
        {
          "output_type": "execute_result",
          "data": {
            "text/plain": [
              "torch.float32"
            ]
          },
          "metadata": {},
          "execution_count": 29
        }
      ]
    },
    {
      "cell_type": "markdown",
      "source": [
        "# Creating a range of tensors and tensors-like"
      ],
      "metadata": {
        "id": "b0-7KHrrLveP"
      }
    },
    {
      "cell_type": "code",
      "source": [
        "torch.range(0, 10)"
      ],
      "metadata": {
        "colab": {
          "base_uri": "https://localhost:8080/"
        },
        "id": "AnHPqbWTLPec",
        "outputId": "b5e428fa-e350-424c-95e2-471d445f991d"
      },
      "execution_count": null,
      "outputs": [
        {
          "output_type": "stream",
          "name": "stderr",
          "text": [
            "<ipython-input-12-cf0dcdb325c8>:1: UserWarning: torch.range is deprecated and will be removed in a future release because its behavior is inconsistent with Python's range builtin. Instead, use torch.arange, which produces values in [start, end).\n",
            "  torch.range(0, 10)\n"
          ]
        },
        {
          "output_type": "execute_result",
          "data": {
            "text/plain": [
              "tensor([ 0.,  1.,  2.,  3.,  4.,  5.,  6.,  7.,  8.,  9., 10.])"
            ]
          },
          "metadata": {},
          "execution_count": 12
        }
      ]
    },
    {
      "cell_type": "markdown",
      "source": [
        "Using `torch.range()` will get deprecated message, therefore use `torch.arange()`.\n",
        "Good for future use."
      ],
      "metadata": {
        "id": "I1KcocVSOOUn"
      }
    },
    {
      "cell_type": "code",
      "source": [
        "torch.arange(0, 10)"
      ],
      "metadata": {
        "colab": {
          "base_uri": "https://localhost:8080/"
        },
        "id": "lqCHhq05L22G",
        "outputId": "64d3900b-64c5-49a8-c95c-7449181fa7b0"
      },
      "execution_count": null,
      "outputs": [
        {
          "output_type": "execute_result",
          "data": {
            "text/plain": [
              "tensor([0, 1, 2, 3, 4, 5, 6, 7, 8, 9])"
            ]
          },
          "metadata": {},
          "execution_count": 33
        }
      ]
    },
    {
      "cell_type": "code",
      "source": [
        "# Creating tensor of range 0 to 1000 with a step of 77\n",
        "\n",
        "range = torch.arange(start=0, end=1000, step=77)\n",
        "range"
      ],
      "metadata": {
        "colab": {
          "base_uri": "https://localhost:8080/"
        },
        "id": "1rAz8A4OL8sw",
        "outputId": "d05f1b62-cea8-4e09-9368-00bb202006bc"
      },
      "execution_count": null,
      "outputs": [
        {
          "output_type": "execute_result",
          "data": {
            "text/plain": [
              "tensor([  0,  77, 154, 231, 308, 385, 462, 539, 616, 693, 770, 847, 924])"
            ]
          },
          "metadata": {},
          "execution_count": 34
        }
      ]
    },
    {
      "cell_type": "code",
      "source": [
        "range.dtype"
      ],
      "metadata": {
        "colab": {
          "base_uri": "https://localhost:8080/"
        },
        "id": "Uic1TJlXMd3Z",
        "outputId": "b5fca670-79cc-4b18-b179-3fc5b4f8aad9"
      },
      "execution_count": null,
      "outputs": [
        {
          "output_type": "execute_result",
          "data": {
            "text/plain": [
              "torch.int64"
            ]
          },
          "metadata": {},
          "execution_count": 35
        }
      ]
    },
    {
      "cell_type": "code",
      "source": [
        "# Creating tensors-like\n",
        "ten_zeros = torch.zeros_like(input=range)\n",
        "ten_zeros"
      ],
      "metadata": {
        "colab": {
          "base_uri": "https://localhost:8080/"
        },
        "id": "8jusy-PfNSpo",
        "outputId": "63a610cb-584c-4cdc-d059-87b0a557399c"
      },
      "execution_count": null,
      "outputs": [
        {
          "output_type": "execute_result",
          "data": {
            "text/plain": [
              "tensor([0, 0, 0, 0, 0, 0, 0, 0, 0, 0, 0, 0, 0])"
            ]
          },
          "metadata": {},
          "execution_count": 38
        }
      ]
    },
    {
      "cell_type": "code",
      "source": [
        "ten_zeros.dtype"
      ],
      "metadata": {
        "colab": {
          "base_uri": "https://localhost:8080/"
        },
        "id": "pVdmsx4BNv1I",
        "outputId": "19a94e41-6375-441c-af11-294a3b43fb84"
      },
      "execution_count": null,
      "outputs": [
        {
          "output_type": "execute_result",
          "data": {
            "text/plain": [
              "torch.int64"
            ]
          },
          "metadata": {},
          "execution_count": 39
        }
      ]
    },
    {
      "cell_type": "markdown",
      "source": [
        "Here we got `ten_zeros` in the same shape as `range` tensor.\n",
        "It creates a similar tensor `like` with whatever methods are given."
      ],
      "metadata": {
        "id": "Y3ev1NnsN4nD"
      }
    },
    {
      "cell_type": "markdown",
      "source": [
        "# TENSOR DATA TYPE"
      ],
      "metadata": {
        "id": "gpJLVddJPBu6"
      }
    },
    {
      "cell_type": "markdown",
      "source": [
        "Single precision: Float32\n",
        "\n",
        "Double precision: Float64\n",
        "\n",
        "Half precision: Float16\n",
        "\n",
        "precision in computer sscience can be said as the accuracy of the processor or GPU to calculate complex numbers.\n",
        "IEEE 754\n",
        "\n",
        "```\n",
        "Read more on net.\n",
        "```\n",
        "\n"
      ],
      "metadata": {
        "id": "-PLfDZ4hZo_Z"
      }
    },
    {
      "cell_type": "code",
      "source": [
        "# Float 32 tensor\n",
        "f32 = torch.tensor([3.0, 6.0, 9.0],\n",
        "                   dtype = None)\n",
        "f32"
      ],
      "metadata": {
        "colab": {
          "base_uri": "https://localhost:8080/"
        },
        "id": "TqBWo8v5PBNm",
        "outputId": "0f341df9-26ff-4265-d3b7-a6b2255ad49b"
      },
      "execution_count": null,
      "outputs": [
        {
          "output_type": "execute_result",
          "data": {
            "text/plain": [
              "tensor([3., 6., 9.])"
            ]
          },
          "metadata": {},
          "execution_count": 40
        }
      ]
    },
    {
      "cell_type": "code",
      "source": [
        "f32.dtype"
      ],
      "metadata": {
        "colab": {
          "base_uri": "https://localhost:8080/"
        },
        "id": "nCLKpEAJZc3J",
        "outputId": "ab85a2f5-f9c3-4d81-a27f-99cf80165564"
      },
      "execution_count": null,
      "outputs": [
        {
          "output_type": "execute_result",
          "data": {
            "text/plain": [
              "torch.float32"
            ]
          },
          "metadata": {},
          "execution_count": 41
        }
      ]
    },
    {
      "cell_type": "code",
      "source": [
        "f16 = torch.tensor([3, 4, 6],\n",
        "                   dtype = torch.float16)\n",
        "f16"
      ],
      "metadata": {
        "colab": {
          "base_uri": "https://localhost:8080/"
        },
        "id": "gSLbYqjuZikc",
        "outputId": "3805d04c-040e-4bf6-858f-4b1403a56e88"
      },
      "execution_count": null,
      "outputs": [
        {
          "output_type": "execute_result",
          "data": {
            "text/plain": [
              "tensor([3., 4., 6.], dtype=torch.float16)"
            ]
          },
          "metadata": {},
          "execution_count": 44
        }
      ]
    },
    {
      "cell_type": "code",
      "source": [
        "f16.dtype"
      ],
      "metadata": {
        "colab": {
          "base_uri": "https://localhost:8080/"
        },
        "id": "DF6iBBSNZiDl",
        "outputId": "87cb3f3f-1175-4629-bf5a-fe9a2a059437"
      },
      "execution_count": null,
      "outputs": [
        {
          "output_type": "execute_result",
          "data": {
            "text/plain": [
              "torch.float16"
            ]
          },
          "metadata": {},
          "execution_count": 45
        }
      ]
    },
    {
      "cell_type": "markdown",
      "source": [
        "**Tensors datatyes**\n",
        "\n",
        "**Important Note:** Tensors datatypes is one of the 3 big errors you\"ll run into with pytorch & deep learning.\n",
        "1. Tensors not right datatype.\n",
        "2. Tesnsors not right shape.\n",
        "3. Tensors not on the right or same device.\n"
      ],
      "metadata": {
        "id": "-9rQXrwLm8Y_"
      }
    },
    {
      "cell_type": "code",
      "source": [
        "# float 32 tensor with\n",
        "f32 = torch.tensor([3.0, 4.0, 5.0],\n",
        "                   dtype = None, # what data type is the tensor\n",
        "                   device= None, # allows to change the runtime type from `cpu` as the defalut to 'cuda' for gpu accelerated.\n",
        "                   requires_grad= False)\n",
        "f32\n"
      ],
      "metadata": {
        "id": "FbI9mTMpaDI0",
        "colab": {
          "base_uri": "https://localhost:8080/"
        },
        "outputId": "3009fb7f-5077-4585-f149-4948d5dcc168"
      },
      "execution_count": null,
      "outputs": [
        {
          "output_type": "execute_result",
          "data": {
            "text/plain": [
              "tensor([3., 4., 5.])"
            ]
          },
          "metadata": {},
          "execution_count": 6
        }
      ]
    },
    {
      "cell_type": "code",
      "source": [
        "# float 32 tensor with\n",
        "f32 = torch.tensor([3.0, 4.0, 5.0],\n",
        "                   dtype = None, # what data type is the tensor\n",
        "                   device= \"cpu\", # allows to change the runtime type from `cpu` as the defalut to 'cuda' for gpu accelerated.\n",
        "                   requires_grad= False)\n",
        "f32\n"
      ],
      "metadata": {
        "colab": {
          "base_uri": "https://localhost:8080/"
        },
        "outputId": "166d2313-9577-44a0-eb22-57cc762492c1",
        "id": "X8CPHywp-QEc"
      },
      "execution_count": null,
      "outputs": [
        {
          "output_type": "execute_result",
          "data": {
            "text/plain": [
              "tensor([3., 4., 5.])"
            ]
          },
          "metadata": {},
          "execution_count": 5
        }
      ]
    },
    {
      "cell_type": "code",
      "source": [
        "# float 32 tensor with\n",
        "f32 = torch.tensor([3.0, 4.0, 5.0],\n",
        "                   dtype = None, # what data type is the tensor\n",
        "                   device= \"cuda\", # allows to change the runtime type from `cpu` as the defalut to 'cuda' for gpu accelerated.\n",
        "                   requires_grad= False) # whether or not to track gradeints with this operations.\n",
        "f32"
      ],
      "metadata": {
        "id": "50noHO1f-UsG"
      },
      "execution_count": null,
      "outputs": []
    },
    {
      "cell_type": "code",
      "source": [
        "# converting to Float 16\n",
        "f16 = f32.type(torch.float16)\n",
        "f16"
      ],
      "metadata": {
        "id": "leA_YqxTpl_7",
        "colab": {
          "base_uri": "https://localhost:8080/"
        },
        "outputId": "12e40fcb-0538-466c-c4e8-b29c4741ab5d"
      },
      "execution_count": null,
      "outputs": [
        {
          "output_type": "execute_result",
          "data": {
            "text/plain": [
              "tensor([3., 4., 5.], dtype=torch.float16)"
            ]
          },
          "metadata": {},
          "execution_count": 7
        }
      ]
    },
    {
      "cell_type": "code",
      "source": [
        "# As above mentioned there likely to be an error if we try to perform tensors operations if the the tensors are not in the same or right datatype.\n",
        "# Here we can multiply f16 tensor with a f32 tensor. how?\n",
        "f = f16 * f32\n",
        "f"
      ],
      "metadata": {
        "id": "Ah3eOcEYaD4_",
        "colab": {
          "base_uri": "https://localhost:8080/"
        },
        "outputId": "25184a91-5902-48c8-8bdf-b6cd17602017"
      },
      "execution_count": null,
      "outputs": [
        {
          "output_type": "execute_result",
          "data": {
            "text/plain": [
              "tensor([ 9., 16., 25.])"
            ]
          },
          "metadata": {},
          "execution_count": 9
        }
      ]
    },
    {
      "cell_type": "code",
      "source": [
        "f.dtype\n",
        "# we get f32 type tensor as a result. why?"
      ],
      "metadata": {
        "id": "PhrirQp7aD_P",
        "colab": {
          "base_uri": "https://localhost:8080/"
        },
        "outputId": "fa949b8a-47f5-40c3-df4a-ca300418b4ec"
      },
      "execution_count": null,
      "outputs": [
        {
          "output_type": "execute_result",
          "data": {
            "text/plain": [
              "torch.float32"
            ]
          },
          "metadata": {},
          "execution_count": 10
        }
      ]
    },
    {
      "cell_type": "code",
      "source": [
        "# Integer tensor\n",
        "int32 = torch.tensor([3, 4, 5],\n",
        "                     dtype= torch.int32)\n",
        "int32"
      ],
      "metadata": {
        "id": "KMdZ2enbaEFE",
        "colab": {
          "base_uri": "https://localhost:8080/"
        },
        "outputId": "f166bab8-95f5-47e1-ca37-ca218c5e3b68"
      },
      "execution_count": null,
      "outputs": [
        {
          "output_type": "execute_result",
          "data": {
            "text/plain": [
              "tensor([3, 4, 5], dtype=torch.int32)"
            ]
          },
          "metadata": {},
          "execution_count": 11
        }
      ]
    },
    {
      "cell_type": "code",
      "source": [
        "f32 * int32 # it works as well"
      ],
      "metadata": {
        "colab": {
          "base_uri": "https://localhost:8080/"
        },
        "id": "rDsux9oRBSz4",
        "outputId": "5ed52950-3e30-496a-9e6e-ef8cf1e6f421"
      },
      "execution_count": null,
      "outputs": [
        {
          "output_type": "execute_result",
          "data": {
            "text/plain": [
              "tensor([ 9., 16., 25.])"
            ]
          },
          "metadata": {},
          "execution_count": 12
        }
      ]
    },
    {
      "cell_type": "markdown",
      "source": [
        "Getting information from tensor\n",
        "\n",
        "1. Tensors not right datatype. - to get datatype from a tensor, can use `tensor.dtype`.\n",
        "2. Tesnsors not right shape. - to get shape from a tensor, can use `tensor.shape`\n",
        "3. Tensors not on the right or same device. - to get device from a tensor, can use `tensor.device`.\n"
      ],
      "metadata": {
        "id": "KW0fpvPmB4iq"
      }
    },
    {
      "cell_type": "code",
      "source": [
        "x = torch.rand(3, 4)\n",
        "x"
      ],
      "metadata": {
        "colab": {
          "base_uri": "https://localhost:8080/"
        },
        "id": "kck3-E_ECYLk",
        "outputId": "8f99ad19-6218-4ee7-dd12-8dfc8d2febf2"
      },
      "execution_count": null,
      "outputs": [
        {
          "output_type": "execute_result",
          "data": {
            "text/plain": [
              "tensor([[0.4300, 0.9426, 0.3194, 0.2596],\n",
              "        [0.4295, 0.1005, 0.1687, 0.5944],\n",
              "        [0.2828, 0.4955, 0.8998, 0.8403]])"
            ]
          },
          "metadata": {},
          "execution_count": 13
        }
      ]
    },
    {
      "cell_type": "code",
      "source": [
        "# details about x tensor\n",
        "print(x)\n",
        "print(f\"Datatype of Tensor: {x.dtype}\") # this is called formatting string litteral.\n",
        "print(f\"Shape of tensor: {x.shape}\")\n",
        "print(f\"device tensor is on: {x.device}\") # defalut device is cpu.\n"
      ],
      "metadata": {
        "colab": {
          "base_uri": "https://localhost:8080/"
        },
        "id": "vuyQf2tjChZZ",
        "outputId": "af945784-471f-47ad-b94e-f9f0b339f6c6"
      },
      "execution_count": null,
      "outputs": [
        {
          "output_type": "stream",
          "name": "stdout",
          "text": [
            "tensor([[0.4300, 0.9426, 0.3194, 0.2596],\n",
            "        [0.4295, 0.1005, 0.1687, 0.5944],\n",
            "        [0.2828, 0.4955, 0.8998, 0.8403]])\n",
            "Datatype of Tensor: torch.float32\n",
            "Shape of tensor: torch.Size([3, 4])\n",
            "device tensor is on: cpu\n"
          ]
        }
      ]
    },
    {
      "cell_type": "code",
      "source": [
        "# creating a random tensor of float16 datatype.\n",
        "random = torch.rand(size=(3, 4),\n",
        "                    dtype = torch.float16,\n",
        "                    device = \"cpu\")\n",
        "random"
      ],
      "metadata": {
        "colab": {
          "base_uri": "https://localhost:8080/"
        },
        "id": "7O5cBmKGJvtE",
        "outputId": "4cff723d-df40-454e-b74e-a43f57218fc2"
      },
      "execution_count": null,
      "outputs": [
        {
          "output_type": "execute_result",
          "data": {
            "text/plain": [
              "tensor([[0.4614, 0.2939, 0.1782, 0.6816],\n",
              "        [0.3159, 0.8677, 0.2300, 0.0693],\n",
              "        [0.0195, 0.0024, 0.7578, 0.3105]], dtype=torch.float16)"
            ]
          },
          "metadata": {},
          "execution_count": 20
        }
      ]
    },
    {
      "cell_type": "code",
      "source": [
        "print(f\"Random tensor of Float16 type: {random.dtype}\")\n",
        "print(f\"Random tensor on cpu: {random.device}\")\n"
      ],
      "metadata": {
        "colab": {
          "base_uri": "https://localhost:8080/"
        },
        "id": "P7oTKvpBKdjH",
        "outputId": "1f12e81d-8c85-43cc-ae6d-25ecd72ce6df"
      },
      "execution_count": null,
      "outputs": [
        {
          "output_type": "stream",
          "name": "stdout",
          "text": [
            "Random tensor of Float16 type: torch.float16\n",
            "Random tensor on cpu: cpu\n"
          ]
        }
      ]
    },
    {
      "cell_type": "markdown",
      "source": [
        "# Tensor Manipulations\n",
        "1. Additions\n",
        "2. Substractions\n",
        "3. Multiplications (Element wise)\n",
        "4. Divisions\n",
        "5. Matrix Multiplications\n"
      ],
      "metadata": {
        "id": "oF7j4zpqLLAp"
      }
    },
    {
      "cell_type": "code",
      "source": [
        "# Addition\n",
        "tensor = torch.tensor([1, 2, 3])\n",
        "tensor + 10\n"
      ],
      "metadata": {
        "colab": {
          "base_uri": "https://localhost:8080/"
        },
        "id": "4pGU5NBpK-jt",
        "outputId": "96009921-1ca7-49ab-88e5-8c2fc91e2167"
      },
      "execution_count": null,
      "outputs": [
        {
          "output_type": "execute_result",
          "data": {
            "text/plain": [
              "tensor([11, 12, 13])"
            ]
          },
          "metadata": {},
          "execution_count": 2
        }
      ]
    },
    {
      "cell_type": "code",
      "source": [
        "# Multiplication tensor (element wise)\n",
        "tensor * 10"
      ],
      "metadata": {
        "colab": {
          "base_uri": "https://localhost:8080/"
        },
        "id": "NuwdYlmTLo-2",
        "outputId": "33574e6c-b8c4-4b63-c1c8-04a9342e756a"
      },
      "execution_count": null,
      "outputs": [
        {
          "output_type": "execute_result",
          "data": {
            "text/plain": [
              "tensor([10, 20, 30])"
            ]
          },
          "metadata": {},
          "execution_count": 24
        }
      ]
    },
    {
      "cell_type": "code",
      "source": [
        "# Substraction\n",
        "tensor - 10"
      ],
      "metadata": {
        "colab": {
          "base_uri": "https://localhost:8080/"
        },
        "id": "cWNDXlzoL3wL",
        "outputId": "0bc58760-bf81-4af8-a5de-053363df46bc"
      },
      "execution_count": null,
      "outputs": [
        {
          "output_type": "execute_result",
          "data": {
            "text/plain": [
              "tensor([-9, -8, -7])"
            ]
          },
          "metadata": {},
          "execution_count": 25
        }
      ]
    },
    {
      "cell_type": "code",
      "source": [
        "# pyTorch in-built fuctions for operations\n",
        "torch.mul(tensor, 10)\n",
        "torch.add(tensor, 10)\n",
        "torch.sub(tensor, 10)\n",
        "torch.div(tensor, 10)"
      ],
      "metadata": {
        "colab": {
          "base_uri": "https://localhost:8080/"
        },
        "id": "T4fel507MDb-",
        "outputId": "d515e4d2-74e2-4552-8829-dad288a6b57a"
      },
      "execution_count": null,
      "outputs": [
        {
          "output_type": "execute_result",
          "data": {
            "text/plain": [
              "tensor([0.1000, 0.2000, 0.3000])"
            ]
          },
          "metadata": {},
          "execution_count": 32
        }
      ]
    },
    {
      "cell_type": "markdown",
      "source": [
        "### Matrix Multiplication\n",
        "\n",
        "Two main ways of performing multiplication in neural networks and deep learning:\n",
        "\n",
        "1. Element-wise multiplication\n",
        "2. Matrix multiplication (Dot product)\n"
      ],
      "metadata": {
        "id": "k-A9xyyUqJ3i"
      }
    },
    {
      "cell_type": "code",
      "source": [
        "# Element-wise multiplication\n",
        "tensor * tensor\n"
      ],
      "metadata": {
        "colab": {
          "base_uri": "https://localhost:8080/"
        },
        "id": "a_zl_6PPqJgm",
        "outputId": "a6575cb3-e906-47e6-e310-2fd19cd137ca"
      },
      "execution_count": null,
      "outputs": [
        {
          "output_type": "execute_result",
          "data": {
            "text/plain": [
              "tensor([1, 4, 9])"
            ]
          },
          "metadata": {},
          "execution_count": 4
        }
      ]
    },
    {
      "cell_type": "code",
      "source": [
        "# Matrix Multiplication\n",
        "torch.matmul(tensor, tensor)"
      ],
      "metadata": {
        "colab": {
          "base_uri": "https://localhost:8080/"
        },
        "id": "nIDq-lmnqJcy",
        "outputId": "96ef2fe9-9ce2-4226-f07b-135dc4e2529a"
      },
      "execution_count": null,
      "outputs": [
        {
          "output_type": "execute_result",
          "data": {
            "text/plain": [
              "tensor(14)"
            ]
          },
          "metadata": {},
          "execution_count": 5
        }
      ]
    },
    {
      "cell_type": "code",
      "source": [
        "%%time\n",
        "# Time taking\n",
        "value = 0\n",
        "for i in range(len(tensor)):\n",
        "  value += tensor * tensor\n",
        "print(value)"
      ],
      "metadata": {
        "colab": {
          "base_uri": "https://localhost:8080/"
        },
        "id": "SXM3xsMdqJan",
        "outputId": "4ba30722-6978-42c9-de4b-4e6c39ceaca3"
      },
      "execution_count": null,
      "outputs": [
        {
          "output_type": "stream",
          "name": "stdout",
          "text": [
            "tensor([ 3, 12, 27])\n",
            "CPU times: user 3.21 ms, sys: 15 µs, total: 3.22 ms\n",
            "Wall time: 2.91 ms\n"
          ]
        }
      ]
    },
    {
      "cell_type": "code",
      "source": [
        "%%time\n",
        "torch.matmul(tensor, tensor)\n",
        "# 10x faster"
      ],
      "metadata": {
        "colab": {
          "base_uri": "https://localhost:8080/"
        },
        "id": "OMS_Ygz-qJX_",
        "outputId": "243e7386-e70d-431e-fedd-801df0a7bca4"
      },
      "execution_count": null,
      "outputs": [
        {
          "output_type": "stream",
          "name": "stdout",
          "text": [
            "CPU times: user 113 µs, sys: 0 ns, total: 113 µs\n",
            "Wall time: 117 µs\n"
          ]
        },
        {
          "output_type": "execute_result",
          "data": {
            "text/plain": [
              "tensor(14)"
            ]
          },
          "metadata": {},
          "execution_count": 7
        }
      ]
    },
    {
      "cell_type": "markdown",
      "source": [
        "**Shape errors**\n",
        "There are two main rules that performing matrix multiplication needs to satisfy:\n",
        "1. The **inner dimensions** must be same.\n",
        "* `(3, 4) @ (3, 2)` won't work\n",
        "* `(2 ,3) @ (3 ,2)` will work\n",
        "* `(3, 2) @ (2, 3)` will\n",
        "\n",
        "*Here @ is symbol for matrix multiplication it is simililar to `torch.matmul()` method*\n",
        "\n",
        "2. The resulting matrix has the shape of the **outer dimensions**:\n",
        "* `(2, 3) @ (3, 2) -> (2, 2)`\n",
        "\n",
        "*Matrixmultiplication.xzy* -- website"
      ],
      "metadata": {
        "id": "7CJyfJpWtc-g"
      }
    },
    {
      "cell_type": "code",
      "source": [
        "tensor_A = torch.tensor([[1, 2],\n",
        "                        [3, 4],\n",
        "                        [5, 6]])\n",
        "tensor_B = torch.tensor([[7, 8],\n",
        "                        [9, 10],\n",
        "                         [11, 12]])\n",
        "torch.matmul(tensor_A, tensor_B)\n"
      ],
      "metadata": {
        "colab": {
          "base_uri": "https://localhost:8080/",
          "height": 200
        },
        "id": "b1mdw_TKqJWA",
        "outputId": "7e276e90-587b-4e71-ef39-b793e2f8ffa4"
      },
      "execution_count": null,
      "outputs": [
        {
          "output_type": "error",
          "ename": "RuntimeError",
          "evalue": "ignored",
          "traceback": [
            "\u001b[0;31m---------------------------------------------------------------------------\u001b[0m",
            "\u001b[0;31mRuntimeError\u001b[0m                              Traceback (most recent call last)",
            "\u001b[0;32m<ipython-input-8-1300c0563c36>\u001b[0m in \u001b[0;36m<cell line: 7>\u001b[0;34m()\u001b[0m\n\u001b[1;32m      5\u001b[0m                         \u001b[0;34m[\u001b[0m\u001b[0;36m9\u001b[0m\u001b[0;34m,\u001b[0m \u001b[0;36m10\u001b[0m\u001b[0;34m]\u001b[0m\u001b[0;34m,\u001b[0m\u001b[0;34m\u001b[0m\u001b[0;34m\u001b[0m\u001b[0m\n\u001b[1;32m      6\u001b[0m                          [11, 12]])\n\u001b[0;32m----> 7\u001b[0;31m \u001b[0mtorch\u001b[0m\u001b[0;34m.\u001b[0m\u001b[0mmatmul\u001b[0m\u001b[0;34m(\u001b[0m\u001b[0mtensor_A\u001b[0m\u001b[0;34m,\u001b[0m \u001b[0mtensor_B\u001b[0m\u001b[0;34m)\u001b[0m\u001b[0;34m\u001b[0m\u001b[0;34m\u001b[0m\u001b[0m\n\u001b[0m",
            "\u001b[0;31mRuntimeError\u001b[0m: mat1 and mat2 shapes cannot be multiplied (3x2 and 3x2)"
          ]
        }
      ]
    },
    {
      "cell_type": "code",
      "source": [
        "# To fix such shape errors, we use **transpose** `.T`.\n",
        "tensor_B.T\n"
      ],
      "metadata": {
        "colab": {
          "base_uri": "https://localhost:8080/"
        },
        "id": "KuER_VLbqJUN",
        "outputId": "efb96df8-7d84-4071-a43f-30d66d08672c"
      },
      "execution_count": null,
      "outputs": [
        {
          "output_type": "execute_result",
          "data": {
            "text/plain": [
              "tensor([[ 7,  9, 11],\n",
              "        [ 8, 10, 12]])"
            ]
          },
          "metadata": {},
          "execution_count": 9
        }
      ]
    },
    {
      "cell_type": "code",
      "source": [
        "# We get an result.\n",
        "torch.matmul(tensor_A, tensor_B.T)\n"
      ],
      "metadata": {
        "colab": {
          "base_uri": "https://localhost:8080/"
        },
        "id": "s-E5To0WqJSI",
        "outputId": "254a7b96-eee3-4aa1-f035-c1837b5288c3"
      },
      "execution_count": null,
      "outputs": [
        {
          "output_type": "execute_result",
          "data": {
            "text/plain": [
              "tensor([[ 23,  29,  35],\n",
              "        [ 53,  67,  81],\n",
              "        [ 83, 105, 127]])"
            ]
          },
          "metadata": {},
          "execution_count": 10
        }
      ]
    },
    {
      "cell_type": "markdown",
      "source": [
        "### Tensor Aggregation, Min, Max, sum, Mean."
      ],
      "metadata": {
        "id": "n_TR0kTweARR"
      }
    },
    {
      "cell_type": "code",
      "source": [
        "# Maxima and Minima of tensors\n",
        "x = torch.arange(0, 100, 10)\n",
        "x"
      ],
      "metadata": {
        "id": "Bh-AXHDsqJQi",
        "colab": {
          "base_uri": "https://localhost:8080/"
        },
        "outputId": "82ccf3fb-e0be-4bc5-b20c-12eabc05f1de"
      },
      "execution_count": null,
      "outputs": [
        {
          "output_type": "execute_result",
          "data": {
            "text/plain": [
              "tensor([ 0, 10, 20, 30, 40, 50, 60, 70, 80, 90])"
            ]
          },
          "metadata": {},
          "execution_count": 5
        }
      ]
    },
    {
      "cell_type": "code",
      "source": [
        "# Find Min\n",
        "torch.min(x), x.min()\n"
      ],
      "metadata": {
        "id": "vbw6FfRCqJOo",
        "colab": {
          "base_uri": "https://localhost:8080/"
        },
        "outputId": "d240652d-e5f2-4ea2-bc55-913510d64642"
      },
      "execution_count": null,
      "outputs": [
        {
          "output_type": "execute_result",
          "data": {
            "text/plain": [
              "(tensor(0), tensor(0))"
            ]
          },
          "metadata": {},
          "execution_count": 6
        }
      ]
    },
    {
      "cell_type": "code",
      "source": [
        "torch.max(x), x.max()"
      ],
      "metadata": {
        "id": "VVgj7n-FqJMV",
        "colab": {
          "base_uri": "https://localhost:8080/"
        },
        "outputId": "80260561-00d9-40b7-bca0-6b6fa24c8161"
      },
      "execution_count": null,
      "outputs": [
        {
          "output_type": "execute_result",
          "data": {
            "text/plain": [
              "(tensor(90), tensor(90))"
            ]
          },
          "metadata": {},
          "execution_count": 7
        }
      ]
    },
    {
      "cell_type": "markdown",
      "source": [
        "Here in below code the mean takes input of type floating point or complex dtype.\n",
        "Instead it got long.\n"
      ],
      "metadata": {
        "id": "gtL-1liVcsYa"
      }
    },
    {
      "cell_type": "code",
      "source": [
        "torch.mean(x)"
      ],
      "metadata": {
        "colab": {
          "base_uri": "https://localhost:8080/",
          "height": 175
        },
        "id": "rZje3OnuchaK",
        "outputId": "2b5c7a46-7bc5-4e83-85df-234b0643b694"
      },
      "execution_count": null,
      "outputs": [
        {
          "output_type": "error",
          "ename": "RuntimeError",
          "evalue": "ignored",
          "traceback": [
            "\u001b[0;31m---------------------------------------------------------------------------\u001b[0m",
            "\u001b[0;31mRuntimeError\u001b[0m                              Traceback (most recent call last)",
            "\u001b[0;32m<ipython-input-9-455868396db1>\u001b[0m in \u001b[0;36m<cell line: 1>\u001b[0;34m()\u001b[0m\n\u001b[0;32m----> 1\u001b[0;31m \u001b[0mtorch\u001b[0m\u001b[0;34m.\u001b[0m\u001b[0mmean\u001b[0m\u001b[0;34m(\u001b[0m\u001b[0mx\u001b[0m\u001b[0;34m)\u001b[0m\u001b[0;34m\u001b[0m\u001b[0;34m\u001b[0m\u001b[0m\n\u001b[0m",
            "\u001b[0;31mRuntimeError\u001b[0m: mean(): could not infer output dtype. Input dtype must be either a floating point or complex dtype. Got: Long"
          ]
        }
      ]
    },
    {
      "cell_type": "code",
      "source": [
        "# correct format\n",
        "torch.mean(x.type(torch.float32)) # changed to floating point."
      ],
      "metadata": {
        "colab": {
          "base_uri": "https://localhost:8080/"
        },
        "id": "ZB2gQV7ZdPXe",
        "outputId": "8f97323a-37c4-496a-b909-9ff4bff57c33"
      },
      "execution_count": null,
      "outputs": [
        {
          "output_type": "execute_result",
          "data": {
            "text/plain": [
              "tensor(45.)"
            ]
          },
          "metadata": {},
          "execution_count": 12
        }
      ]
    },
    {
      "cell_type": "code",
      "source": [
        "torch.sum(x), x.sum()"
      ],
      "metadata": {
        "colab": {
          "base_uri": "https://localhost:8080/"
        },
        "id": "V1zGd8PGduUs",
        "outputId": "24f9077b-411f-476e-8942-01981774741f"
      },
      "execution_count": null,
      "outputs": [
        {
          "output_type": "execute_result",
          "data": {
            "text/plain": [
              "(tensor(450), tensor(450))"
            ]
          },
          "metadata": {},
          "execution_count": 13
        }
      ]
    },
    {
      "cell_type": "markdown",
      "source": [
        "### Finding the positional Min and Max"
      ],
      "metadata": {
        "id": "wp4xKZ74d8EM"
      }
    },
    {
      "cell_type": "code",
      "source": [
        "x = torch.arange(1, 100, 10)\n",
        "x"
      ],
      "metadata": {
        "colab": {
          "base_uri": "https://localhost:8080/"
        },
        "id": "Iv1c6iTGeX6Q",
        "outputId": "5a2fa80e-bb05-4ed8-b7e3-78a56cf81eae"
      },
      "execution_count": null,
      "outputs": [
        {
          "output_type": "execute_result",
          "data": {
            "text/plain": [
              "tensor([ 1, 11, 21, 31, 41, 51, 61, 71, 81, 91])"
            ]
          },
          "metadata": {},
          "execution_count": 21
        }
      ]
    },
    {
      "cell_type": "markdown",
      "source": [
        "Find the position in tensor:\n",
        "* That has the minimum value with `argmin()` -> retruns the index position of target tensor where the minimum value occurs.\n",
        "* That has the maximum value with `argmax()` -> retruns the index position of target tensor where the maximum value occurs."
      ],
      "metadata": {
        "id": "FC2y9-UFejKJ"
      }
    },
    {
      "cell_type": "code",
      "source": [
        "x.argmin() # returns the index value"
      ],
      "metadata": {
        "colab": {
          "base_uri": "https://localhost:8080/"
        },
        "id": "DDAwmhZReaXh",
        "outputId": "38b37b1c-8e25-49ca-d787-acbc13195d3e"
      },
      "execution_count": null,
      "outputs": [
        {
          "output_type": "execute_result",
          "data": {
            "text/plain": [
              "tensor(0)"
            ]
          },
          "metadata": {},
          "execution_count": 18
        }
      ]
    },
    {
      "cell_type": "code",
      "source": [
        "x[0] # returning the element"
      ],
      "metadata": {
        "colab": {
          "base_uri": "https://localhost:8080/"
        },
        "id": "amq_IQc6fF5e",
        "outputId": "64eb3bf7-c0ee-4e43-8711-ecb7ec5b2ea2"
      },
      "execution_count": null,
      "outputs": [
        {
          "output_type": "execute_result",
          "data": {
            "text/plain": [
              "tensor(1)"
            ]
          },
          "metadata": {},
          "execution_count": 19
        }
      ]
    },
    {
      "cell_type": "code",
      "source": [
        "# Finding the max position.\n",
        "x.argmax() # retruns the index with max element."
      ],
      "metadata": {
        "colab": {
          "base_uri": "https://localhost:8080/"
        },
        "id": "zqbq3-6wfSvT",
        "outputId": "d57172df-dbba-4260-d33f-8587e762bd20"
      },
      "execution_count": null,
      "outputs": [
        {
          "output_type": "execute_result",
          "data": {
            "text/plain": [
              "tensor(9)"
            ]
          },
          "metadata": {},
          "execution_count": 20
        }
      ]
    },
    {
      "cell_type": "markdown",
      "source": [
        "### Reshaping, Stcking, Squeezing and Unsqueezing tensors.\n",
        "* Reshaping - reshapes an input tensor tensor to a defined shape.\n",
        "* Veiw - Return a view of an inpit tensor of certain shape but keep the same memory as the original tensor.\n",
        "* Stacking - combine multiple tensors on top of each other (vstack) or side by side (hstack).\n",
        "* Squeeze - removes all `1` dimension sfrom a tensor.\n",
        "* Unsquueze - add a `1` dimension to a target tensor.\n",
        "* Permute - Return a view of the input with dimensions permuted (swapped) in a certain way.\n"
      ],
      "metadata": {
        "id": "JRNXDIrogh1m"
      }
    },
    {
      "cell_type": "code",
      "source": [
        "import torch"
      ],
      "metadata": {
        "id": "op6iBYBuidsu"
      },
      "execution_count": null,
      "outputs": []
    },
    {
      "cell_type": "code",
      "source": [
        "a = torch.arange(1., 10.) #manuall\n",
        "a, a.shape"
      ],
      "metadata": {
        "colab": {
          "base_uri": "https://localhost:8080/"
        },
        "id": "LLJMbhuWhz2G",
        "outputId": "59479886-9674-4cfa-c02f-3252ab765309"
      },
      "execution_count": null,
      "outputs": [
        {
          "output_type": "execute_result",
          "data": {
            "text/plain": [
              "(tensor([1., 2., 3., 4., 5., 6., 7., 8., 9.]), torch.Size([9]))"
            ]
          },
          "metadata": {},
          "execution_count": 6
        }
      ]
    },
    {
      "cell_type": "code",
      "source": [
        "a_reshaped = a.reshape(1, 9)\n",
        "a_reshaped, a_reshaped.shape"
      ],
      "metadata": {
        "colab": {
          "base_uri": "https://localhost:8080/"
        },
        "id": "WtZfXbcqj3GT",
        "outputId": "f747f669-7851-4ad8-b870-2293b5225359"
      },
      "execution_count": null,
      "outputs": [
        {
          "output_type": "execute_result",
          "data": {
            "text/plain": [
              "(tensor([[1., 2., 3., 4., 5., 6., 7., 8., 9.]]), torch.Size([1, 9]))"
            ]
          },
          "metadata": {},
          "execution_count": 7
        }
      ]
    },
    {
      "cell_type": "code",
      "source": [
        "a_reshaped = a.reshape(9, 1)\n",
        "a_reshaped, a_reshaped.shape, x.ndim"
      ],
      "metadata": {
        "colab": {
          "base_uri": "https://localhost:8080/",
          "height": 192
        },
        "id": "ggaMZeeYkGaE",
        "outputId": "c997f57c-a212-4793-d436-31ff6c68cd76"
      },
      "execution_count": null,
      "outputs": [
        {
          "output_type": "error",
          "ename": "NameError",
          "evalue": "ignored",
          "traceback": [
            "\u001b[0;31m---------------------------------------------------------------------------\u001b[0m",
            "\u001b[0;31mNameError\u001b[0m                                 Traceback (most recent call last)",
            "\u001b[0;32m<ipython-input-8-d4caf51f217f>\u001b[0m in \u001b[0;36m<cell line: 2>\u001b[0;34m()\u001b[0m\n\u001b[1;32m      1\u001b[0m \u001b[0ma_reshaped\u001b[0m \u001b[0;34m=\u001b[0m \u001b[0ma\u001b[0m\u001b[0;34m.\u001b[0m\u001b[0mreshape\u001b[0m\u001b[0;34m(\u001b[0m\u001b[0;36m9\u001b[0m\u001b[0;34m,\u001b[0m \u001b[0;36m1\u001b[0m\u001b[0;34m)\u001b[0m\u001b[0;34m\u001b[0m\u001b[0;34m\u001b[0m\u001b[0m\n\u001b[0;32m----> 2\u001b[0;31m \u001b[0ma_reshaped\u001b[0m\u001b[0;34m,\u001b[0m \u001b[0ma_reshaped\u001b[0m\u001b[0;34m.\u001b[0m\u001b[0mshape\u001b[0m\u001b[0;34m,\u001b[0m \u001b[0mx\u001b[0m\u001b[0;34m.\u001b[0m\u001b[0mndim\u001b[0m\u001b[0;34m\u001b[0m\u001b[0;34m\u001b[0m\u001b[0m\n\u001b[0m",
            "\u001b[0;31mNameError\u001b[0m: name 'x' is not defined"
          ]
        }
      ]
    },
    {
      "cell_type": "code",
      "source": [
        "# Changing the view\n",
        "z = a.view(1, 9)\n",
        "z, z.shape"
      ],
      "metadata": {
        "colab": {
          "base_uri": "https://localhost:8080/"
        },
        "id": "ALAh9Jynkguo",
        "outputId": "e926e36e-cece-4451-9972-c5df34314b92"
      },
      "execution_count": null,
      "outputs": [
        {
          "output_type": "execute_result",
          "data": {
            "text/plain": [
              "(tensor([[1., 2., 3., 4., 5., 6., 7., 8., 9.]]), torch.Size([1, 9]))"
            ]
          },
          "metadata": {},
          "execution_count": 9
        }
      ]
    },
    {
      "cell_type": "markdown",
      "source": [
        "*View of a tensor shares the same memory as the original tensor, therefore changing z changes a.*"
      ],
      "metadata": {
        "id": "HdVzrMCAkv3P"
      }
    },
    {
      "cell_type": "code",
      "source": [
        "# Changing the z changes the a\n",
        "z[:, 0] = 5 #Slicing of 2-D tensor. : -> selecting all the row elements, 0 -> slecting the first element of the coulumn.\n",
        "z, a"
      ],
      "metadata": {
        "colab": {
          "base_uri": "https://localhost:8080/"
        },
        "id": "SQON1B92k-FI",
        "outputId": "72ebc719-5850-4f33-83c7-d3efc7ba00ac"
      },
      "execution_count": null,
      "outputs": [
        {
          "output_type": "execute_result",
          "data": {
            "text/plain": [
              "(tensor([[5., 2., 3., 4., 5., 6., 7., 8., 9.]]),\n",
              " tensor([5., 2., 3., 4., 5., 6., 7., 8., 9.]))"
            ]
          },
          "metadata": {},
          "execution_count": 10
        }
      ]
    },
    {
      "cell_type": "code",
      "source": [
        "# Stack tensors on top of each others\n",
        "x_stacked = torch.stack([a, a, a, a], dim=0)\n",
        "x_stacked\n"
      ],
      "metadata": {
        "colab": {
          "base_uri": "https://localhost:8080/"
        },
        "id": "tobnDEyem19x",
        "outputId": "17ba21e1-c861-4055-e314-c2b206c4fe91"
      },
      "execution_count": null,
      "outputs": [
        {
          "output_type": "execute_result",
          "data": {
            "text/plain": [
              "tensor([[5., 2., 3., 4., 5., 6., 7., 8., 9.],\n",
              "        [5., 2., 3., 4., 5., 6., 7., 8., 9.],\n",
              "        [5., 2., 3., 4., 5., 6., 7., 8., 9.],\n",
              "        [5., 2., 3., 4., 5., 6., 7., 8., 9.]])"
            ]
          },
          "metadata": {},
          "execution_count": 11
        }
      ]
    },
    {
      "cell_type": "markdown",
      "source": [
        "`dim=0`: This specifies the dimension along which the tensors will be stacked. In this case, `dim=0` means the tensors will be stacked along the first dimension ***(the rows)*** to create a new tensor."
      ],
      "metadata": {
        "id": "bIXhJZgloaJF"
      }
    },
    {
      "cell_type": "code",
      "source": [
        "x_stacked = torch.stack([a, a, a, a], dim=1)\n",
        "x_stacked"
      ],
      "metadata": {
        "colab": {
          "base_uri": "https://localhost:8080/"
        },
        "id": "msmuiAuHnV7W",
        "outputId": "8d86b732-c3e5-4898-bfdf-a7838a315e85"
      },
      "execution_count": null,
      "outputs": [
        {
          "output_type": "execute_result",
          "data": {
            "text/plain": [
              "tensor([[5., 5., 5., 5.],\n",
              "        [2., 2., 2., 2.],\n",
              "        [3., 3., 3., 3.],\n",
              "        [4., 4., 4., 4.],\n",
              "        [5., 5., 5., 5.],\n",
              "        [6., 6., 6., 6.],\n",
              "        [7., 7., 7., 7.],\n",
              "        [8., 8., 8., 8.],\n",
              "        [9., 9., 9., 9.]])"
            ]
          },
          "metadata": {},
          "execution_count": 12
        }
      ]
    },
    {
      "cell_type": "markdown",
      "source": [
        "`dim=1`: This specifies the dimension along which the tensors will be stacked. In this case, `dim=1` means the tensors will be stacked along the second dimension ***(the columns)*** to create a new tensor."
      ],
      "metadata": {
        "id": "oXxsIxjlojd-"
      }
    },
    {
      "cell_type": "markdown",
      "source": [
        "**Squeezing**"
      ],
      "metadata": {
        "id": "fFmptwDMqSw1"
      }
    },
    {
      "cell_type": "code",
      "source": [
        "print(f\"Pervious tensor: {a_reshaped}\")\n",
        "print(f\"Previous shape: {a_reshaped.shape}\")\n",
        "\n",
        "# Squeezing\n",
        "x_squeezed = a_reshaped.squeeze()\n",
        "print(f\"\\nNew tensor: {x_squeezed}\")\n",
        "print(f\"\\nNew shape: {x_squeezed.shape}\")\n"
      ],
      "metadata": {
        "colab": {
          "base_uri": "https://localhost:8080/"
        },
        "id": "tZmsyoasorkh",
        "outputId": "6046ba58-aa02-4e66-cc6f-0d9794a782a3"
      },
      "execution_count": null,
      "outputs": [
        {
          "output_type": "stream",
          "name": "stdout",
          "text": [
            "Pervious tensor: tensor([[5.],\n",
            "        [2.],\n",
            "        [3.],\n",
            "        [4.],\n",
            "        [5.],\n",
            "        [6.],\n",
            "        [7.],\n",
            "        [8.],\n",
            "        [9.]])\n",
            "Previous shape: torch.Size([9, 1])\n",
            "\n",
            "New tensor: tensor([5., 2., 3., 4., 5., 6., 7., 8., 9.])\n",
            "\n",
            "New shape: torch.Size([9])\n"
          ]
        }
      ]
    },
    {
      "cell_type": "markdown",
      "source": [
        "**Un-Squeezing**\n"
      ],
      "metadata": {
        "id": "KSaikTa9qr-m"
      }
    },
    {
      "cell_type": "code",
      "source": [
        "print(f\"Pervious target: {x_squeezed}\")\n",
        "print(f\"Previous Shape: {x_squeezed.shape}\")\n",
        "\n",
        "# Unsqueezing\n",
        "x_unsqueezed = x_squeezed.unsqueeze(dim=0)\n",
        "print(f\"\\nNew Tensor: {x_unsqueezed}\")\n",
        "print(f\"\\nNew Shape: {x_unsqueezed.shape}\")\n"
      ],
      "metadata": {
        "colab": {
          "base_uri": "https://localhost:8080/"
        },
        "id": "qzDlWGZBrJEa",
        "outputId": "8b841e67-c21d-4bb4-ded1-a5024c17a09e"
      },
      "execution_count": null,
      "outputs": [
        {
          "output_type": "stream",
          "name": "stdout",
          "text": [
            "Pervious target: tensor([5., 2., 3., 4., 5., 6., 7., 8., 9.])\n",
            "Previous Shape: torch.Size([9])\n",
            "\n",
            "New Tensor: tensor([[5., 2., 3., 4., 5., 6., 7., 8., 9.]])\n",
            "\n",
            "New Shape: torch.Size([1, 9])\n"
          ]
        }
      ]
    },
    {
      "cell_type": "code",
      "source": [
        "print(f\"Pervious target: {x_squeezed}\")\n",
        "print(f\"Previous Shape: {x_squeezed.shape}\")\n",
        "\n",
        "# Unsqueezing\n",
        "x_unsqueezed = x_squeezed.unsqueeze(dim=1)\n",
        "print(f\"\\nNew Tensor: {x_unsqueezed}\")\n",
        "print(f\"\\nNew Shape: {x_unsqueezed.shape}\")\n"
      ],
      "metadata": {
        "colab": {
          "base_uri": "https://localhost:8080/"
        },
        "outputId": "eee5afd7-c4d2-406f-f8d1-2eb101ea4e7d",
        "id": "vHGv9OMQtLNf"
      },
      "execution_count": null,
      "outputs": [
        {
          "output_type": "stream",
          "name": "stdout",
          "text": [
            "Pervious target: tensor([5., 2., 3., 4., 5., 6., 7., 8., 9.])\n",
            "Previous Shape: torch.Size([9])\n",
            "\n",
            "New Tensor: tensor([[5.],\n",
            "        [2.],\n",
            "        [3.],\n",
            "        [4.],\n",
            "        [5.],\n",
            "        [6.],\n",
            "        [7.],\n",
            "        [8.],\n",
            "        [9.]])\n",
            "\n",
            "New Shape: torch.Size([9, 1])\n"
          ]
        }
      ]
    },
    {
      "cell_type": "markdown",
      "source": [
        "`dim=0` changes or adds the dimension at the 0th index.\n",
        "\n",
        "`dim=1` changes or adds the dimension at the 1st index.\n"
      ],
      "metadata": {
        "id": "ewYp9oQ8tl6z"
      }
    },
    {
      "cell_type": "code",
      "source": [
        "#torch.permute - rearranges the dimensions of a target is a specified order\n",
        "x_original = torch.rand(size=(224, 224, 3)) #[height, width, colour_channels]\n",
        "\n",
        "# permute the original tensors to rearrange the axis (or dim) order\n",
        "x_permuted = x_original.permute(2, 0, 1) # shifts axis 0->1, 1->2, 2->0\n",
        "\n",
        "print(f\"Previous shape: {x_original.shape}\")\n",
        "print(f\"New shape: {x_permuted.shape}\") #[colour_channels, height, width]\n"
      ],
      "metadata": {
        "colab": {
          "base_uri": "https://localhost:8080/"
        },
        "id": "vMQaZOvUtHiZ",
        "outputId": "77cd3add-bffa-45d8-b6bf-23d72635c0e3"
      },
      "execution_count": null,
      "outputs": [
        {
          "output_type": "stream",
          "name": "stdout",
          "text": [
            "Previous shape: torch.Size([224, 224, 3])\n",
            "New shape: torch.Size([3, 224, 224])\n"
          ]
        }
      ]
    },
    {
      "cell_type": "markdown",
      "source": [
        "The permute function take input the dimension and changes the those dimensions to the dimensional positions they have been written.\n",
        "-> i.e In the above expample the\n",
        "`x_original.permute(2, 0, 1)` the original tensor's\n",
        "* The 2nd Dimension will be permutted/changed to 0th dimension,\n",
        "* The 0th will be permutted/changed to 1st dimension.\n",
        "* The 1st dimension will be permutted/changed to 2nd dimensions.\n",
        "\n",
        "**Note:** Here dimension are starting from the 0 to 2, like inedexes. therefore be carefull while understanding these dimensions. Dimensions in pyTorch tensors are difficult to understand therefore give more time to understand these units.\n"
      ],
      "metadata": {
        "id": "jrkkwzM94w3V"
      }
    },
    {
      "cell_type": "code",
      "source": [
        "x_original[0, 0, 0] = 782218\n",
        "x_original[0, 0, 0], x_permuted[0, 0, 0]\n"
      ],
      "metadata": {
        "colab": {
          "base_uri": "https://localhost:8080/"
        },
        "id": "Ceaohxje4weV",
        "outputId": "a2111309-4972-4474-e55a-b3b79f5e98a8"
      },
      "execution_count": null,
      "outputs": [
        {
          "output_type": "execute_result",
          "data": {
            "text/plain": [
              "(tensor(782218.), tensor(782218.))"
            ]
          },
          "metadata": {},
          "execution_count": 17
        }
      ]
    },
    {
      "cell_type": "markdown",
      "source": [
        "In the above code we can see the if we change the original tensor values, the values in the permuted tensor will be changes as well.\n",
        "\n",
        " _______________Why?_____________\n",
        "\n",
        "  Because the **permuted** tensor\n",
        " Returns a view of the original tensor input with its dimensions permuted.\n",
        "\n",
        " **Veiw** -> shares the same memory as the priginal tensor, changing the original tensor changes the view of the tensor."
      ],
      "metadata": {
        "id": "ZH23x-Sw6vwF"
      }
    },
    {
      "cell_type": "markdown",
      "source": [
        "### Indexing\n",
        "Indexing with pyTorch is similar to indexing with Numpy.\n"
      ],
      "metadata": {
        "id": "GoG5ICYt8Sft"
      }
    },
    {
      "cell_type": "code",
      "source": [
        "import torch\n",
        "x = torch.arange(1, 10).reshape(1, 3, 3)\n",
        "x, x.shape"
      ],
      "metadata": {
        "colab": {
          "base_uri": "https://localhost:8080/"
        },
        "id": "Z5XmUPej77gh",
        "outputId": "081e67d7-6ec1-4925-9930-03dec88aa93f"
      },
      "execution_count": null,
      "outputs": [
        {
          "output_type": "execute_result",
          "data": {
            "text/plain": [
              "(tensor([[[1, 2, 3],\n",
              "          [4, 5, 6],\n",
              "          [7, 8, 9]]]),\n",
              " torch.Size([1, 3, 3]))"
            ]
          },
          "metadata": {},
          "execution_count": 2
        }
      ]
    },
    {
      "cell_type": "code",
      "source": [
        "#  Index in the 0th Dimension\n",
        "x[0]\n"
      ],
      "metadata": {
        "colab": {
          "base_uri": "https://localhost:8080/"
        },
        "id": "CytsoOQg8bDj",
        "outputId": "3eccdfb2-dd62-4465-a184-ddc5c5ab0e7b"
      },
      "execution_count": null,
      "outputs": [
        {
          "output_type": "execute_result",
          "data": {
            "text/plain": [
              "tensor([[1, 2, 3],\n",
              "        [4, 5, 6],\n",
              "        [7, 8, 9]])"
            ]
          },
          "metadata": {},
          "execution_count": 3
        }
      ]
    },
    {
      "cell_type": "code",
      "source": [
        "# Index in the 1st Dimension (dim=1)\n",
        "x[0][0]\n"
      ],
      "metadata": {
        "colab": {
          "base_uri": "https://localhost:8080/"
        },
        "id": "JZQP-yI78rw2",
        "outputId": "0ec306df-3a4a-4c88-8fa2-90e9e126992a"
      },
      "execution_count": null,
      "outputs": [
        {
          "output_type": "execute_result",
          "data": {
            "text/plain": [
              "tensor([1, 2, 3])"
            ]
          },
          "metadata": {},
          "execution_count": 5
        }
      ]
    },
    {
      "cell_type": "code",
      "source": [
        "# Index of the 2nd dimension of the tnesor, (dim=2) last dimension\n",
        "x[0][0][0]\n"
      ],
      "metadata": {
        "colab": {
          "base_uri": "https://localhost:8080/"
        },
        "id": "TFTuj0vN82zR",
        "outputId": "831aac97-a5a1-4261-f7b0-704e0e64c2c2"
      },
      "execution_count": null,
      "outputs": [
        {
          "output_type": "execute_result",
          "data": {
            "text/plain": [
              "tensor(1)"
            ]
          },
          "metadata": {},
          "execution_count": 6
        }
      ]
    },
    {
      "cell_type": "code",
      "source": [
        "# what if we do this?\n",
        "x[0, 0, 0]\n",
        "# Return same as x[0][0][0]"
      ],
      "metadata": {
        "colab": {
          "base_uri": "https://localhost:8080/"
        },
        "id": "IpKuM39o9J5V",
        "outputId": "17d87cfa-2197-4bea-bb68-0d19c236e19e"
      },
      "execution_count": null,
      "outputs": [
        {
          "output_type": "execute_result",
          "data": {
            "text/plain": [
              "tensor(1)"
            ]
          },
          "metadata": {},
          "execution_count": 7
        }
      ]
    },
    {
      "cell_type": "code",
      "source": [
        "x[1][1][1]\n",
        "# error because there is no dim=1, present only dim=0\n"
      ],
      "metadata": {
        "id": "nlZ6xcYE9VL2",
        "colab": {
          "base_uri": "https://localhost:8080/",
          "height": 175
        },
        "outputId": "1181e596-688a-49b1-dc83-99f865508e2f"
      },
      "execution_count": null,
      "outputs": [
        {
          "output_type": "error",
          "ename": "IndexError",
          "evalue": "ignored",
          "traceback": [
            "\u001b[0;31m---------------------------------------------------------------------------\u001b[0m",
            "\u001b[0;31mIndexError\u001b[0m                                Traceback (most recent call last)",
            "\u001b[0;32m<ipython-input-8-e270b96106f3>\u001b[0m in \u001b[0;36m<cell line: 1>\u001b[0;34m()\u001b[0m\n\u001b[0;32m----> 1\u001b[0;31m \u001b[0mx\u001b[0m\u001b[0;34m[\u001b[0m\u001b[0;36m1\u001b[0m\u001b[0;34m]\u001b[0m\u001b[0;34m[\u001b[0m\u001b[0;36m1\u001b[0m\u001b[0;34m]\u001b[0m\u001b[0;34m[\u001b[0m\u001b[0;36m1\u001b[0m\u001b[0;34m]\u001b[0m\u001b[0;34m\u001b[0m\u001b[0;34m\u001b[0m\u001b[0m\n\u001b[0m",
            "\u001b[0;31mIndexError\u001b[0m: index 1 is out of bounds for dimension 0 with size 1"
          ]
        }
      ]
    },
    {
      "cell_type": "code",
      "source": [
        "# using \":\"\n",
        "x[:, 0]"
      ],
      "metadata": {
        "colab": {
          "base_uri": "https://localhost:8080/"
        },
        "id": "N8USXaHfzCbi",
        "outputId": "7bf3e1e4-b278-4dd5-ead4-cf8fe6cc8a76"
      },
      "execution_count": null,
      "outputs": [
        {
          "output_type": "execute_result",
          "data": {
            "text/plain": [
              "tensor([[1, 2, 3]])"
            ]
          },
          "metadata": {},
          "execution_count": 9
        }
      ]
    },
    {
      "cell_type": "code",
      "source": [
        "# Get all the vlaues of 0th and 1st dimensions but only index 1 of 2nd dimension/.\n",
        "x[:, :, 1]\n"
      ],
      "metadata": {
        "colab": {
          "base_uri": "https://localhost:8080/"
        },
        "id": "IPSv_mEszb5i",
        "outputId": "e2f7b675-7b69-4c24-f795-d4e0b2147f72"
      },
      "execution_count": null,
      "outputs": [
        {
          "output_type": "execute_result",
          "data": {
            "text/plain": [
              "tensor([[2, 5, 8]])"
            ]
          },
          "metadata": {},
          "execution_count": 10
        }
      ]
    },
    {
      "cell_type": "code",
      "source": [
        "# Get all values og 0th dimension but only 1 index value of 1st and 2nd dimension.\n",
        "x[:, 1, 1]"
      ],
      "metadata": {
        "colab": {
          "base_uri": "https://localhost:8080/"
        },
        "id": "zHVyqqyf0Tos",
        "outputId": "28634996-9694-48cd-bd2a-0644872eade1"
      },
      "execution_count": null,
      "outputs": [
        {
          "output_type": "execute_result",
          "data": {
            "text/plain": [
              "tensor([5])"
            ]
          },
          "metadata": {},
          "execution_count": 11
        }
      ]
    },
    {
      "cell_type": "markdown",
      "source": [
        "Difference between the above and below code is.\n",
        "* In the above code we are selelcting all elements of 0th dim, along with the element 5 therefore comming with a [].\n",
        "* In the below code we are only selecting the element 5. therefore coming with ().\n"
      ],
      "metadata": {
        "id": "LteqjLgz0lpK"
      }
    },
    {
      "cell_type": "code",
      "source": [
        "x[0, 1, 1]"
      ],
      "metadata": {
        "colab": {
          "base_uri": "https://localhost:8080/"
        },
        "id": "hrs3NVWr0g55",
        "outputId": "c1db602a-c03e-4c9e-e28e-ca7a07d227aa"
      },
      "execution_count": null,
      "outputs": [
        {
          "output_type": "execute_result",
          "data": {
            "text/plain": [
              "tensor(5)"
            ]
          },
          "metadata": {},
          "execution_count": 12
        }
      ]
    },
    {
      "cell_type": "code",
      "source": [
        "x[0][1][:]"
      ],
      "metadata": {
        "colab": {
          "base_uri": "https://localhost:8080/"
        },
        "id": "k2Yx-jSZ1X2-",
        "outputId": "6ca6b475-2507-4cc3-d06b-6f27f3bdcd43"
      },
      "execution_count": null,
      "outputs": [
        {
          "output_type": "execute_result",
          "data": {
            "text/plain": [
              "tensor([4, 5, 6])"
            ]
          },
          "metadata": {},
          "execution_count": 26
        }
      ]
    },
    {
      "cell_type": "code",
      "source": [
        "# retruning 9\n",
        "x[0, 2, 2] # On;y 9"
      ],
      "metadata": {
        "colab": {
          "base_uri": "https://localhost:8080/"
        },
        "id": "0kUlheVO2VTt",
        "outputId": "90f25e66-70f2-435c-be03-c722e9f50b7a"
      },
      "execution_count": null,
      "outputs": [
        {
          "output_type": "execute_result",
          "data": {
            "text/plain": [
              "tensor(9)"
            ]
          },
          "metadata": {},
          "execution_count": 27
        }
      ]
    },
    {
      "cell_type": "code",
      "source": [
        "# retrun 3, 6, 9\n",
        "x[0, :, 2]"
      ],
      "metadata": {
        "colab": {
          "base_uri": "https://localhost:8080/"
        },
        "id": "CqEM7BcB2kix",
        "outputId": "4498167d-9437-415f-d84b-4661f778b44b"
      },
      "execution_count": null,
      "outputs": [
        {
          "output_type": "execute_result",
          "data": {
            "text/plain": [
              "tensor([3, 6, 9])"
            ]
          },
          "metadata": {},
          "execution_count": 28
        }
      ]
    },
    {
      "cell_type": "markdown",
      "source": [
        "# Numpy and pyTorch\n",
        "Numpy is popular scientific python numerical computing library.\n",
        "And because of thos, pyTorch has functionality to interact with it.\n",
        "\n",
        "* Data in NumPy want in PyTorch tensor -> `torch.from_numpy(ndarray)`\n",
        "* PyTorch tensor -> NumPy -> `torch.Tensor.numpy()`"
      ],
      "metadata": {
        "id": "Ttj4J_GJ292d"
      }
    },
    {
      "cell_type": "code",
      "source": [
        "# NumPy array to tensor\n",
        "import torch\n",
        "import numpy as np\n",
        "\n",
        "array = np.arange(1.0, 8.0)\n",
        "tensor = torch.from_numpy(array)\n",
        "array, tensor"
      ],
      "metadata": {
        "colab": {
          "base_uri": "https://localhost:8080/"
        },
        "id": "zdi28X1t3lmD",
        "outputId": "a1202b16-a73c-4c74-9065-92ef3898975a"
      },
      "execution_count": null,
      "outputs": [
        {
          "output_type": "execute_result",
          "data": {
            "text/plain": [
              "(array([1., 2., 3., 4., 5., 6., 7.]),\n",
              " tensor([1., 2., 3., 4., 5., 6., 7.], dtype=torch.float64))"
            ]
          },
          "metadata": {},
          "execution_count": 2
        }
      ]
    },
    {
      "cell_type": "code",
      "source": [
        "array.dtype # Default datatype of numpy is Float64."
      ],
      "metadata": {
        "colab": {
          "base_uri": "https://localhost:8080/"
        },
        "id": "-n4OMXiM4T4L",
        "outputId": "9f9fab70-905b-4861-b29d-35e34cfbdf48"
      },
      "execution_count": null,
      "outputs": [
        {
          "output_type": "execute_result",
          "data": {
            "text/plain": [
              "dtype('float64')"
            ]
          },
          "metadata": {},
          "execution_count": 32
        }
      ]
    },
    {
      "cell_type": "code",
      "source": [
        "torch.arange(1.0, 8.0).dtype # Deafult type of Tensor is Float32."
      ],
      "metadata": {
        "colab": {
          "base_uri": "https://localhost:8080/"
        },
        "id": "CzmkXWQN4ZEz",
        "outputId": "926c06ce-cdc6-4145-ae29-f73c31d9b24e"
      },
      "execution_count": null,
      "outputs": [
        {
          "output_type": "execute_result",
          "data": {
            "text/plain": [
              "torch.float32"
            ]
          },
          "metadata": {},
          "execution_count": 36
        }
      ]
    },
    {
      "cell_type": "markdown",
      "source": [
        "**Warning: When changing from Numpy -> Tensor, pytorch reflects numpy's default datatype of float64 unless specified otherwise.\n"
      ],
      "metadata": {
        "id": "ivssYyhQ404K"
      }
    },
    {
      "cell_type": "code",
      "source": [
        "# Changing the dtype\n",
        "tensor = torch.from_numpy(array).type(torch.float32)\n",
        "tensor.dtype"
      ],
      "metadata": {
        "colab": {
          "base_uri": "https://localhost:8080/"
        },
        "id": "CXyUPsuQ4Y_D",
        "outputId": "39b7927a-12ee-4005-f712-25285900f955"
      },
      "execution_count": null,
      "outputs": [
        {
          "output_type": "execute_result",
          "data": {
            "text/plain": [
              "torch.float32"
            ]
          },
          "metadata": {},
          "execution_count": 39
        }
      ]
    },
    {
      "cell_type": "code",
      "source": [
        "# Changing the value of array! will It change the tensor??\n",
        "array = array + 1\n",
        "array, tensor\n",
        "\n",
        "# It doesn't effect the tensor."
      ],
      "metadata": {
        "colab": {
          "base_uri": "https://localhost:8080/"
        },
        "id": "OPFBCAQC51Xd",
        "outputId": "facde316-deaf-4bd5-b784-1ee85156341c"
      },
      "execution_count": null,
      "outputs": [
        {
          "output_type": "execute_result",
          "data": {
            "text/plain": [
              "(array([2., 3., 4., 5., 6., 7., 8.]), tensor([1., 2., 3., 4., 5., 6., 7.]))"
            ]
          },
          "metadata": {},
          "execution_count": 40
        }
      ]
    },
    {
      "cell_type": "code",
      "source": [
        "# tensor to Numpy array\n",
        "tensor = torch.ones(7)\n",
        "numpy_tensor = tensor.numpy()\n",
        "tensor, numpy_tensor\n",
        "\n",
        " # the datatype of the numpy array remains same as the tensor."
      ],
      "metadata": {
        "colab": {
          "base_uri": "https://localhost:8080/"
        },
        "id": "BjtG4RGp6Ezj",
        "outputId": "b1391be5-aba4-4ea8-dbdc-3c565a29a7d9"
      },
      "execution_count": null,
      "outputs": [
        {
          "output_type": "execute_result",
          "data": {
            "text/plain": [
              "(tensor([1., 1., 1., 1., 1., 1., 1.]),\n",
              " array([1., 1., 1., 1., 1., 1., 1.], dtype=float32))"
            ]
          },
          "metadata": {},
          "execution_count": 41
        }
      ]
    },
    {
      "cell_type": "code",
      "source": [
        "# change the tensor, what happens to \"Numpy_tensor\"??\n",
        "tensor = tensor + 1\n",
        "numpy_tensor, tensor\n",
        "\n",
        "# it is uncahnged!"
      ],
      "metadata": {
        "colab": {
          "base_uri": "https://localhost:8080/"
        },
        "id": "OxvQ2ClU6gAB",
        "outputId": "bc90f605-f7cc-41fc-dd48-8fdd229c3cb4"
      },
      "execution_count": null,
      "outputs": [
        {
          "output_type": "execute_result",
          "data": {
            "text/plain": [
              "(array([1., 1., 1., 1., 1., 1., 1.], dtype=float32),\n",
              " tensor([2., 2., 2., 2., 2., 2., 2.]))"
            ]
          },
          "metadata": {},
          "execution_count": 42
        }
      ]
    },
    {
      "cell_type": "markdown",
      "source": [
        "### Reproducibility (trying to take random out of random)\n",
        "\n",
        "In short how neural network learns:\n",
        "random numbers -> tensor operations -> making better representation of those random numbers of the data -> again -> again -> again.\n",
        "\n",
        "to reduce the randomness in neural networks and pytorch comes the concept of **random seed**.\n",
        "Essentially what the random seed does is \"Flavour\" the randomness.\n",
        "*\n",
        "Argumentative: According to Computer Scientist, computers are fundamentally deterministic. That means they run the smae steps over and over again. So, what the randomness we're doing here is reffered to as pseudo randomness or generated randomness. And the **Random Seed**, in Machine learning \"Flavours\" that randomeness.\n",
        "\n",
        "* *Instead of relying on external random events, computers use complex algorithms to produce sequences of numbers that appear random. These sequences are not truly random but can be indistinguishable from true randomness for many practical purposes.*\n",
        "\n",
        "* ***Random Seed in Machine Learning: In machine learning, random numbers are often used in various processes like initializing model parameters, shuffling datasets, or splitting data into training and testing sets. However, since computers generate pseudo-random numbers, they need a starting point or a reference value to begin the generation of these random sequences. This starting value is called the \"random seed.\" By setting a specific random seed before running a machine learning algorithm, you can ensure that the sequence of pseudo-random numbers generated during the process remains the same each time you run the algorithm. This deterministic behavior is helpful in research and debugging as it allows you to replicate results and makes experiments more reproducible. However, it's also essential to be cautious with the choice of random seeds, as using the same seed for different experiments can lead to biased or overfitted results.***\n"
      ],
      "metadata": {
        "id": "XNMe9Abu6zxc"
      }
    },
    {
      "cell_type": "code",
      "source": [
        "import torch\n",
        "\n",
        "rand_A = torch.rand(3, 4)\n",
        "rand_B = torch.rand(3, 4)\n",
        "rand_A, rand_B"
      ],
      "metadata": {
        "colab": {
          "base_uri": "https://localhost:8080/"
        },
        "id": "mClVeVJp6yom",
        "outputId": "4d8b6a67-411f-43ab-802a-6bcb013b5cf1"
      },
      "execution_count": null,
      "outputs": [
        {
          "output_type": "execute_result",
          "data": {
            "text/plain": [
              "(tensor([[0.5913, 0.3811, 0.0679, 0.7805],\n",
              "         [0.1285, 0.2527, 0.8782, 0.4879],\n",
              "         [0.9265, 0.6091, 0.1261, 0.7698]]),\n",
              " tensor([[0.7895, 0.1188, 0.6285, 0.2221],\n",
              "         [0.3197, 0.8425, 0.4500, 0.5997],\n",
              "         [0.2803, 0.2577, 0.4538, 0.8037]]))"
            ]
          },
          "metadata": {},
          "execution_count": 1
        }
      ]
    },
    {
      "cell_type": "code",
      "source": [
        "print(rand_A == rand_B)\n",
        "# Not equal. !!"
      ],
      "metadata": {
        "colab": {
          "base_uri": "https://localhost:8080/"
        },
        "id": "fB1LbQATBYXB",
        "outputId": "20cdc519-fa91-4dd4-f326-164282d137d0"
      },
      "execution_count": null,
      "outputs": [
        {
          "output_type": "stream",
          "name": "stdout",
          "text": [
            "tensor([[False, False, False, False],\n",
            "        [False, False, False, False],\n",
            "        [False, False, False, False]])\n"
          ]
        }
      ]
    },
    {
      "cell_type": "code",
      "source": [
        "# Making random but reproducible tensors.\n",
        "\n",
        "RANDOM_SEED = 42 # why 42? it universal seed. but we can put any number to it.\n",
        "torch.manual_seed(RANDOM_SEED) # Here this line of code works for one single statement after it.\n",
        "rand_C = torch.rand(3,4)\n",
        "\n",
        "torch.manual_seed(RANDOM_SEED) #if we don't use this line before creating the rand_D it will generate random number as defalut one. therefore mentioning it necessary before creating the rand_D tensor.\n",
        "rand_D = torch.rand(3,4)\n",
        "\n",
        "print(rand_C)\n",
        "print(rand_D)\n",
        "print(rand_C == rand_D)\n"
      ],
      "metadata": {
        "colab": {
          "base_uri": "https://localhost:8080/"
        },
        "id": "jj8RuPKVCjQN",
        "outputId": "ef5e3183-4354-479a-b55b-66346f831b5e"
      },
      "execution_count": null,
      "outputs": [
        {
          "output_type": "stream",
          "name": "stdout",
          "text": [
            "tensor([[0.8823, 0.9150, 0.3829, 0.9593],\n",
            "        [0.3904, 0.6009, 0.2566, 0.7936],\n",
            "        [0.9408, 0.1332, 0.9346, 0.5936]])\n",
            "tensor([[0.8823, 0.9150, 0.3829, 0.9593],\n",
            "        [0.3904, 0.6009, 0.2566, 0.7936],\n",
            "        [0.9408, 0.1332, 0.9346, 0.5936]])\n",
            "tensor([[True, True, True, True],\n",
            "        [True, True, True, True],\n",
            "        [True, True, True, True]])\n"
          ]
        }
      ]
    },
    {
      "cell_type": "markdown",
      "source": [
        "In pyTorch,  a random seed is also known as Manual Seed is a way flavor the randomness. So, these number as you see are still quite random, But the random seed hust makes them reproducible. So if the model was to be shared with other people, idealy they will have the same numerical output.\n",
        "\n",
        "**Read More on**: https://pytorch.org/docs/stable/notes/randomness.html\n",
        "\n",
        "**Random Seed**: More on wikki"
      ],
      "metadata": {
        "id": "7AKganE6tnF2"
      }
    },
    {
      "cell_type": "markdown",
      "source": [
        "### Running tensors and pytorch objects on the GPUs (Making faster computations)\n",
        "\n",
        "GPUs -> Faster computation on numbers.\n",
        "\n",
        "-> Google colab (free).\n",
        "\n",
        "-> System GPUs - Personal GPU.\n",
        "\n",
        "-> Cloud Services -> GCP, AWS, azure (paid)"
      ],
      "metadata": {
        "id": "HenlVpWrHttN"
      }
    },
    {
      "cell_type": "code",
      "source": [
        "!nvidia-smi"
      ],
      "metadata": {
        "id": "_79ZPXgzNFVi",
        "colab": {
          "base_uri": "https://localhost:8080/"
        },
        "outputId": "b4c60ff8-94f2-49f4-9d11-3c2d7c1de964"
      },
      "execution_count": null,
      "outputs": [
        {
          "output_type": "stream",
          "name": "stdout",
          "text": [
            "Tue Aug  8 08:15:17 2023       \n",
            "+-----------------------------------------------------------------------------+\n",
            "| NVIDIA-SMI 525.105.17   Driver Version: 525.105.17   CUDA Version: 12.0     |\n",
            "|-------------------------------+----------------------+----------------------+\n",
            "| GPU  Name        Persistence-M| Bus-Id        Disp.A | Volatile Uncorr. ECC |\n",
            "| Fan  Temp  Perf  Pwr:Usage/Cap|         Memory-Usage | GPU-Util  Compute M. |\n",
            "|                               |                      |               MIG M. |\n",
            "|===============================+======================+======================|\n",
            "|   0  Tesla T4            Off  | 00000000:00:04.0 Off |                    0 |\n",
            "| N/A   34C    P8     9W /  70W |      3MiB / 15360MiB |      0%      Default |\n",
            "|                               |                      |                  N/A |\n",
            "+-------------------------------+----------------------+----------------------+\n",
            "                                                                               \n",
            "+-----------------------------------------------------------------------------+\n",
            "| Processes:                                                                  |\n",
            "|  GPU   GI   CI        PID   Type   Process name                  GPU Memory |\n",
            "|        ID   ID                                                   Usage      |\n",
            "|=============================================================================|\n",
            "|  No running processes found                                                 |\n",
            "+-----------------------------------------------------------------------------+\n"
          ]
        }
      ]
    },
    {
      "cell_type": "code",
      "source": [
        "# GPU access with pyTorch\n",
        "import torch\n",
        "torch.cuda.is_available()\n",
        "# Cuda is nividia interface which allows us to use GPUs for numerical computing."
      ],
      "metadata": {
        "colab": {
          "base_uri": "https://localhost:8080/"
        },
        "id": "8kBMWcJsLJUQ",
        "outputId": "f50e40d4-3920-4441-ea4c-623e4027bd7e"
      },
      "execution_count": null,
      "outputs": [
        {
          "output_type": "execute_result",
          "data": {
            "text/plain": [
              "True"
            ]
          },
          "metadata": {},
          "execution_count": 2
        }
      ]
    },
    {
      "cell_type": "code",
      "source": [
        "# Device Agnostic Code\n",
        "# Setup device agnostic code\n",
        "device = \"cuda\" if torch.cuda.is_available() else \"cpu\"\n",
        "device\n",
        "# to check if the GPU is available for computing if not run on CPU."
      ],
      "metadata": {
        "colab": {
          "base_uri": "https://localhost:8080/",
          "height": 36
        },
        "id": "noWkH4j9Lw73",
        "outputId": "1bc669b3-ce8c-404e-c724-b034c56d5c82"
      },
      "execution_count": null,
      "outputs": [
        {
          "output_type": "execute_result",
          "data": {
            "text/plain": [
              "'cuda'"
            ],
            "application/vnd.google.colaboratory.intrinsic+json": {
              "type": "string"
            }
          },
          "metadata": {},
          "execution_count": 3
        }
      ]
    },
    {
      "cell_type": "code",
      "source": [
        "# Count the number of device\n",
        "torch.cuda.device_count() # We can use multiple devices to rum models.\n",
        "# pyTorch Agonstic documentation."
      ],
      "metadata": {
        "colab": {
          "base_uri": "https://localhost:8080/"
        },
        "id": "Kgff9W7ZMLt1",
        "outputId": "363b573c-33c8-42e5-f397-7c21ed788f62"
      },
      "execution_count": null,
      "outputs": [
        {
          "output_type": "execute_result",
          "data": {
            "text/plain": [
              "1"
            ]
          },
          "metadata": {},
          "execution_count": 7
        }
      ]
    },
    {
      "cell_type": "markdown",
      "source": [
        "## Putting Tensors (AND models) on the GPUs"
      ],
      "metadata": {
        "id": "w8vLoa0Mrb2l"
      }
    },
    {
      "cell_type": "code",
      "source": [
        "tensor = torch.tensor([1, 2, 3])\n",
        "\n",
        "# Tensor not on GPU\n",
        "print(tensor, tensor.device)\n",
        "\n"
      ],
      "metadata": {
        "colab": {
          "base_uri": "https://localhost:8080/"
        },
        "id": "X5-JhrjDrtoY",
        "outputId": "f6d8d87c-593e-40c1-917e-0ea7651e2781"
      },
      "execution_count": null,
      "outputs": [
        {
          "output_type": "stream",
          "name": "stdout",
          "text": [
            "tensor([1, 2, 3]) cpu\n"
          ]
        }
      ]
    },
    {
      "cell_type": "code",
      "source": [
        "# Shifting to GPUs\n",
        "tensor_on_gpu = tensor.to(device)\n",
        "tensor_on_gpu, tensor_on_gpu.device"
      ],
      "metadata": {
        "colab": {
          "base_uri": "https://localhost:8080/"
        },
        "id": "VP3AEUtoC8UP",
        "outputId": "8ca6afc6-f017-4a37-e1bb-7696b6cbdc33"
      },
      "execution_count": null,
      "outputs": [
        {
          "output_type": "execute_result",
          "data": {
            "text/plain": [
              "(tensor([1, 2, 3], device='cuda:0'), device(type='cuda', index=0))"
            ]
          },
          "metadata": {},
          "execution_count": 7
        }
      ]
    },
    {
      "cell_type": "markdown",
      "source": [
        "## Moving to CPU\n",
        "* If the tensor is on GPU then it can't be converted to Numpy array.\n",
        "*"
      ],
      "metadata": {
        "id": "ESql1xrcDbjT"
      }
    },
    {
      "cell_type": "code",
      "source": [
        "# Fixing GPU problem, setting it to cpu first then converting to numpy.\n",
        "tensor_back_on_cpu = tensor_on_gpu.cpu().numpy()\n",
        "tensor_back_on_cpu"
      ],
      "metadata": {
        "colab": {
          "base_uri": "https://localhost:8080/"
        },
        "id": "nbZqVKHpDVYN",
        "outputId": "64131410-532e-4a5d-972d-27388fac8b45"
      },
      "execution_count": null,
      "outputs": [
        {
          "output_type": "execute_result",
          "data": {
            "text/plain": [
              "array([1, 2, 3])"
            ]
          },
          "metadata": {},
          "execution_count": 8
        }
      ]
    },
    {
      "cell_type": "code",
      "source": [
        "tensor_on_gpu #GPU tensor is unchanged."
      ],
      "metadata": {
        "colab": {
          "base_uri": "https://localhost:8080/"
        },
        "id": "L0Yz8tQIEHYX",
        "outputId": "e613a56d-51c4-4caa-e82c-a17973fd0afc"
      },
      "execution_count": null,
      "outputs": [
        {
          "output_type": "execute_result",
          "data": {
            "text/plain": [
              "tensor([1, 2, 3], device='cuda:0')"
            ]
          },
          "metadata": {},
          "execution_count": 9
        }
      ]
    },
    {
      "cell_type": "markdown",
      "source": [
        "pyTorch more on documentations. (Read)\n",
        "-> Read on `torch.Tensor`.\n",
        "\n",
        "-> Read on `torch.cuda`.\n",
        "\n",
        "Extra Exercise on -> https://www.learnpytorch.io/00_pytorch_fundamentals/#exercises\n"
      ],
      "metadata": {
        "id": "EZt9p_XzEYaP"
      }
    },
    {
      "cell_type": "code",
      "source": [],
      "metadata": {
        "id": "AUp8TxdXEhTZ"
      },
      "execution_count": null,
      "outputs": []
    }
  ]
}