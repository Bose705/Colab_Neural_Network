{
  "nbformat": 4,
  "nbformat_minor": 0,
  "metadata": {
    "colab": {
      "provenance": [],
      "authorship_tag": "ABX9TyNdjEtdCS36Z4rp0DkzIQpE",
      "include_colab_link": true
    },
    "kernelspec": {
      "name": "python3",
      "display_name": "Python 3"
    },
    "language_info": {
      "name": "python"
    }
  },
  "cells": [
    {
      "cell_type": "markdown",
      "metadata": {
        "id": "view-in-github",
        "colab_type": "text"
      },
      "source": [
        "<a href=\"https://colab.research.google.com/github/Grim705/Colab_Neural_Network/blob/main/NeuralNetwork_py1.ipynb\" target=\"_parent\"><img src=\"https://colab.research.google.com/assets/colab-badge.svg\" alt=\"Open In Colab\"/></a>"
      ]
    },
    {
      "cell_type": "markdown",
      "source": [
        "### PyTorch WorkFlow"
      ],
      "metadata": {
        "id": "HNfIQSl4OFsP"
      }
    },
    {
      "cell_type": "code",
      "execution_count": null,
      "metadata": {
        "id": "Wfts1Kl-HMa9",
        "colab": {
          "base_uri": "https://localhost:8080/",
          "height": 36
        },
        "outputId": "61d3fb0c-f999-4fa9-db27-4e1d1a837cf9"
      },
      "outputs": [
        {
          "output_type": "execute_result",
          "data": {
            "text/plain": [
              "'2.0.1+cu118'"
            ],
            "application/vnd.google.colaboratory.intrinsic+json": {
              "type": "string"
            }
          },
          "metadata": {},
          "execution_count": 1
        }
      ],
      "source": [
        "import torch\n",
        "from torch import nn  # It contains all of PyTorch's building blocks for neural networks.\n",
        "import matplotlib.pyplot as plt\n",
        "\n",
        " # Check PyTorch version\n",
        "torch.__version__ # Minimum version needed"
      ]
    },
    {
      "cell_type": "markdown",
      "source": [
        "## 1. Data (Preapring and loading)\n",
        "\n",
        "Data can be almost anything... in machine learning.\n",
        "\n",
        "* Excel Spreadsheet\n",
        "* Images of any kind.\n",
        "* Audio like songs or podcast\n",
        "* DNA\n",
        "* Text\n",
        "\n",
        "Machine learnong is a game of two parts.\n",
        "1. Get into a numerical representation.\n",
        "2. Build a model to learn patterns in that numerical representations.\n",
        "\n",
        "To shoecase this, let's create some *known* data using the linear regression formula.\n",
        "we'll use a linear regression formula to make straight line with *known* **parameters**.\n"
      ],
      "metadata": {
        "id": "HR0Vz36vYdvH"
      }
    },
    {
      "cell_type": "code",
      "source": [
        "# Creating *known* values\n",
        "weights = 0.7\n",
        "bias = 0.3\n",
        "\n",
        "# create\n",
        "start = 0\n",
        "end = 1\n",
        "steps = 0.02\n",
        "\n",
        "X = torch.arange(start, end, steps).unsqueeze(dim=1) # we know that `caps` letters denotes matrices or tensors, here X is a vextor explained later.\n",
        "y = weights * X + bias #Simple linear regression formula\n",
        "\n",
        "\n",
        "# here we have used the torch.unqueeze() method, it will be clear later on."
      ],
      "metadata": {
        "id": "DuB0B3SnaQze"
      },
      "execution_count": null,
      "outputs": []
    },
    {
      "cell_type": "code",
      "source": [
        "X[:10]"
      ],
      "metadata": {
        "id": "1IvVl64laLMC",
        "colab": {
          "base_uri": "https://localhost:8080/"
        },
        "outputId": "43ca6992-c303-4c8e-b25b-eff5eb4acddd"
      },
      "execution_count": null,
      "outputs": [
        {
          "output_type": "execute_result",
          "data": {
            "text/plain": [
              "tensor([[0.0000],\n",
              "        [0.0200],\n",
              "        [0.0400],\n",
              "        [0.0600],\n",
              "        [0.0800],\n",
              "        [0.1000],\n",
              "        [0.1200],\n",
              "        [0.1400],\n",
              "        [0.1600],\n",
              "        [0.1800]])"
            ]
          },
          "metadata": {},
          "execution_count": 3
        }
      ]
    },
    {
      "cell_type": "code",
      "source": [
        "y[:10]"
      ],
      "metadata": {
        "colab": {
          "base_uri": "https://localhost:8080/"
        },
        "id": "0DVhMhiFaU_o",
        "outputId": "78334ede-492f-4fcd-90f6-ca3580b724e4"
      },
      "execution_count": null,
      "outputs": [
        {
          "output_type": "execute_result",
          "data": {
            "text/plain": [
              "tensor([[0.3000],\n",
              "        [0.3140],\n",
              "        [0.3280],\n",
              "        [0.3420],\n",
              "        [0.3560],\n",
              "        [0.3700],\n",
              "        [0.3840],\n",
              "        [0.3980],\n",
              "        [0.4120],\n",
              "        [0.4260]])"
            ]
          },
          "metadata": {},
          "execution_count": 4
        }
      ]
    },
    {
      "cell_type": "code",
      "source": [
        "len(X), len(y)\n"
      ],
      "metadata": {
        "colab": {
          "base_uri": "https://localhost:8080/"
        },
        "id": "_IxDJSLiaVEk",
        "outputId": "b68c2bb0-bb1c-4fba-90ef-d7f47759f2ec"
      },
      "execution_count": null,
      "outputs": [
        {
          "output_type": "execute_result",
          "data": {
            "text/plain": [
              "(50, 50)"
            ]
          },
          "metadata": {},
          "execution_count": 11
        }
      ]
    },
    {
      "cell_type": "markdown",
      "source": [
        "### Spliting the data into training and test sets.\n",
        "\n",
        "1. Training set (Learning)\n",
        "2. Validation set (Practice Exam)\n",
        "3. Testing set (Final Exam)\n"
      ],
      "metadata": {
        "id": "520lAjOYTRvx"
      }
    },
    {
      "cell_type": "code",
      "source": [],
      "metadata": {
        "id": "keXWJcFKaVH3"
      },
      "execution_count": null,
      "outputs": []
    },
    {
      "cell_type": "code",
      "source": [],
      "metadata": {
        "id": "tdUKRIRgaVLQ"
      },
      "execution_count": null,
      "outputs": []
    }
  ]
}